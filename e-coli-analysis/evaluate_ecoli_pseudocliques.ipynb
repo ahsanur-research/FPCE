{
 "cells": [
  {
   "cell_type": "code",
   "execution_count": null,
   "id": "273e27f9",
   "metadata": {},
   "outputs": [],
   "source": [
    "#SET PARAMS HERE\n",
    "l = 5\n",
    "species = 'ecoli'\n",
    "real_com_file_all =  'ecocyc-complexes-w-dummy-names.txt' #'ecoli-protein-complexes-ext-genenames-w-names.tsv'"
   ]
  },
  {
   "cell_type": "code",
   "execution_count": null,
   "id": "e4cb3cd7",
   "metadata": {},
   "outputs": [],
   "source": [
    "#returns list of complexes in file with at least min_nodes proteins\n",
    "def read_real_coms(file, min_nodes):\n",
    "    coms = []\n",
    "    with open(file) as file:\n",
    "        for line in file:\n",
    "            #print(line)\n",
    "            comname,members = line.rstrip().split(\"\\t\")\n",
    "            words = members.split()\n",
    "            if len(words) >= min_nodes:\n",
    "                coms.append([comname, words])\n",
    "    return coms"
   ]
  },
  {
   "cell_type": "code",
   "execution_count": null,
   "id": "39440203",
   "metadata": {},
   "outputs": [],
   "source": [
    "#returns list of communities/pseudo-cliques in file\n",
    "def read_coms(file):\n",
    "    coms = []\n",
    "    with open(file) as file:\n",
    "        for line in file:\n",
    "            words = line.rstrip().split()\n",
    "            coms.append(words)\n",
    "    return coms"
   ]
  },
  {
   "cell_type": "code",
   "execution_count": null,
   "id": "9fcfd3c4",
   "metadata": {},
   "outputs": [],
   "source": [
    "def matching_score(set1, set2):\n",
    "    \"\"\"Calculates the matching score between two sets (e.g., a cluster and a complex)\n",
    "    using the approach of Bader et al, 2001\"\"\"\n",
    "    return len(set1.intersection(set2))**2 / (float(len(set1)) * len(set2))\n",
    "\n",
    "def fraction_matched(reference, predicted, score_threshold=0.25):\n",
    "    result = 0\n",
    "\n",
    "    for id1, c1 in enumerate(reference):\n",
    "        for id2, c2 in enumerate(predicted):\n",
    "            score = matching_score(c1, c2)\n",
    "            if score > score_threshold:\n",
    "                result += 1\n",
    "                break\n",
    "\n",
    "    return result / len(reference)"
   ]
  },
  {
   "cell_type": "code",
   "execution_count": null,
   "id": "658e9ce4",
   "metadata": {},
   "outputs": [],
   "source": [
    "def compute_overlap(com1, com2):\n",
    "    sum1 = 0\n",
    "    sum2 = 0\n",
    "    ratios = []\n",
    "    for a in com1:\n",
    "        maxCommon = []\n",
    "        for b in com2:\n",
    "            common = list(set(a) & set(b))\n",
    "            if len(common) > len(maxCommon):\n",
    "                maxCommon = common\n",
    "        sum1 += len(maxCommon) #/len(a)\n",
    "        sum2 += len(a)\n",
    "    ratio = sum1/sum2 #sum1/len(com1)\n",
    "    return ratio"
   ]
  },
  {
   "cell_type": "code",
   "execution_count": null,
   "id": "830743bd",
   "metadata": {},
   "outputs": [],
   "source": [
    "def f1(prec,rec):\n",
    "    if prec == 0 and rec ==  0:\n",
    "        return 0\n",
    "    else:\n",
    "        return 2*prec*rec/(prec+rec)"
   ]
  },
  {
   "cell_type": "code",
   "execution_count": null,
   "id": "b5f727b7",
   "metadata": {},
   "outputs": [],
   "source": [
    "#special cases are based on https://github.com/dice-group/gerbil/wiki/Precision,-Recall-and-F1-measure\n",
    "def prec_rec_f1(real_coms, pred_coms):\n",
    "    if len(real_coms) == 0 and len(pred_coms) == 0:\n",
    "        return [1,1,1]\n",
    "    elif len(real_coms) == 0 or len(pred_coms) == 0:\n",
    "        return [0, 0, 0]\n",
    "    else:  #when neither are zeros then normal process needs to be followed\n",
    "        avg_recall = compute_overlap(real_coms, pred_coms)\n",
    "        avg_precision = compute_overlap(pred_coms, real_coms)\n",
    "        avg_f1 = f1(avg_precision, avg_recall)\n",
    "        return [avg_recall, avg_precision, avg_f1]\n",
    "        "
   ]
  },
  {
   "cell_type": "code",
   "execution_count": null,
   "id": "7dffa631",
   "metadata": {},
   "outputs": [],
   "source": [
    "def clusteringwise_sensitivity(reference, predicted):\n",
    "    num, den = 0., 0.\n",
    "    for complx in reference:\n",
    "        den += len(complx)\n",
    "        num += max(len(complx.intersection(cluster)) for cluster in predicted)\n",
    "    if den == 0.:\n",
    "        return 0.\n",
    "    return num / den\n",
    "\n",
    "def positive_predictive_value(reference, predicted):\n",
    "    num, den = 0., 0.\n",
    "    for cluster in predicted:\n",
    "        isects = [len(cluster.intersection(compl)) for compl in reference]\n",
    "        isects.append(0.)\n",
    "        num += max(isects)\n",
    "        den += sum(isects)\n",
    "    if den == 0.:\n",
    "        return 0.\n",
    "    return num / den\n",
    "\n",
    "def sns_ppv_accuracy(reference, predicted):\n",
    "    sns = clusteringwise_sensitivity(reference, predicted)\n",
    "    ppv = positive_predictive_value(reference, predicted)\n",
    "    \n",
    "    return sns, ppv, (sns * ppv) ** 0.5"
   ]
  },
  {
   "cell_type": "markdown",
   "id": "d50e8ba5",
   "metadata": {},
   "source": [
    "<h3> ALL SGD PROTEIN COMPLEX PREDICTION </h3>"
   ]
  },
  {
   "cell_type": "code",
   "execution_count": null,
   "id": "9da80140",
   "metadata": {},
   "outputs": [],
   "source": [
    "def fracSubset(com1_file, com2_file): #fraction of com1 clusters that are subsets of some com2 clusters\n",
    "    com1 = read_coms(com1_file)\n",
    "    com2 = read_coms(com2_file)\n",
    "    sum1 = 0\n",
    "    for a in com1:\n",
    "        for b in com2:\n",
    "            if set(a) <= set(b):\n",
    "                sum1 += 1\n",
    "                break\n",
    "    ratio = sum1/len(com1)\n",
    "    return ratio"
   ]
  },
  {
   "cell_type": "code",
   "execution_count": null,
   "id": "3df1baab",
   "metadata": {},
   "outputs": [],
   "source": [
    "def process_all(file, l, theta):\n",
    "    real_coms_w_names_all = read_real_coms(real_com_file_all, l)\n",
    "    real_coms_all = [y for [_,y] in real_coms_w_names_all]\n",
    "    pred_coms = read_coms(file)   \n",
    "    avg_recall, avg_precision, avg_f1 = prec_rec_f1(real_coms_all, pred_coms)\n",
    "    real_coms_set = [set(x) for x in real_coms_all]\n",
    "    pred_coms_set = [set(x) for x in pred_coms]\n",
    "    #fm_rec = fraction_matched(real_coms_set, pred_coms_set)\n",
    "    #fm_prec = fraction_matched(pred_coms_set, real_coms_set)\n",
    "    #fm_f1 = f1(fm_prec, fm_rec) #fm_rec, fm_prec, fm_f1, \n",
    "    sns, ppv, acc = sns_ppv_accuracy(real_coms_set, pred_coms_set)\n",
    "    #print(len(real_coms_all))\n",
    "    \n",
    "    #write sns,ppc,acc to csv file for plot generation later\n",
    "    f = open(\"plotcsv.txt\",\"a\")\n",
    "    f.write(repr(sns)+','+repr(ppv)+','+repr(acc)+'\\n')\n",
    "    f.close()\n",
    "    \n",
    "    return [avg_recall, avg_precision, avg_f1, len(pred_coms)/len(real_coms_all), sns, ppv, acc]"
   ]
  },
  {
   "cell_type": "code",
   "execution_count": null,
   "id": "0484e8c5",
   "metadata": {},
   "outputs": [],
   "source": [
    "for th in [0.9, 0.8, 0.7, 0.6]: #, 0.7, 0.6]:\n",
    "    fpce_com_file = 'fpce-'+species+'-'+str(l)+'-'+str(th)+'-genenames.out'\n",
    "    cl1_com_file = 'cl1-'+species+'-'+str(l)+'-'+str(th)+'.out'\n",
    "    print('### RESULTS FOR l='+str(l)+', theta='+str(th))\n",
    "    res_fpce = process_all(fpce_com_file, l, th)\n",
    "    res_cl1 = process_all(cl1_com_file, l, th)\n",
    "    fs = fracSubset(cl1_com_file, fpce_com_file)\n",
    "    print('FPCE: recall\\tprecision\\tF1\\tfracCom\\tSNS\\tPPV\\tACC\\tFS') #recall_fm\\tprecision_fm\\tF1_fm\\t\n",
    "    print('\\t'.join(map(str, res_fpce)), fs, sep = '\\t')\n",
    "    print('CL1: recall\\tprecision\\tF1\\tfracCom\\tSNS\\tPPV\\tACC\\tFS')\n",
    "    print('\\t'.join(map(str, res_cl1)))"
   ]
  },
  {
   "cell_type": "markdown",
   "id": "2710c077",
   "metadata": {},
   "source": [
    "<h3> \n",
    "Find and report some FPCE clusters (for a chosen threshold) which overlaps with some complexes that have no overlap with any CL1 clusters\n",
    "</h3>"
   ]
  },
  {
   "cell_type": "code",
   "execution_count": null,
   "id": "dc60138e",
   "metadata": {},
   "outputs": [],
   "source": [
    "#select param based on F1 & accuracy\n",
    "th = 0.8\n",
    "ov = 1"
   ]
  },
  {
   "cell_type": "code",
   "execution_count": null,
   "id": "eeb56a8d",
   "metadata": {},
   "outputs": [],
   "source": [
    "def largestOverlappedCommInCom2ForeachCommInCom1(com1, com2):\n",
    "    maxCommons = []\n",
    "    i = 1\n",
    "    for a in com1:\n",
    "        maxCommon = []\n",
    "        j = 1\n",
    "        midx = 0\n",
    "        for b in com2:\n",
    "            common = list(set(a) & set(b))\n",
    "            if len(common) > len(maxCommon):\n",
    "                maxCommon = common\n",
    "                midx = j\n",
    "            j += 1\n",
    "        if len(maxCommon) > 0:\n",
    "#             if len(maxCommon) == len(a):\n",
    "#                 properSubset = []\n",
    "#             else:\n",
    "#                 properSubset = a\n",
    "            maxCommons.append([i, maxCommon, midx, a])\n",
    "        i += 1\n",
    "\n",
    "    return maxCommons"
   ]
  },
  {
   "cell_type": "code",
   "execution_count": null,
   "id": "52c271aa",
   "metadata": {},
   "outputs": [],
   "source": [
    "fpce_com_file = 'fpce-'+species+'-'+str(l)+'-'+str(th)+'-genenames.out'\n",
    "cl1_com_file = 'cl1-'+species+'-'+str(l)+'-'+str(th)+'.out'\n",
    "\n",
    "real_coms_w_names = read_real_coms(real_com_file_all, l)\n",
    "real_coms = [y for [_,y] in real_coms_w_names]\n",
    "\n",
    "fpce_coms = read_coms(fpce_com_file)\n",
    "cl1_coms = read_coms(cl1_com_file)\n",
    "\n",
    "#print('RESULTS FOR l='+str(l)+', theta='+str(th))\n",
    "res_fpce = largestOverlappedCommInCom2ForeachCommInCom1(real_coms, fpce_coms)\n",
    "res_cl1 = largestOverlappedCommInCom2ForeachCommInCom1(real_coms, cl1_coms)\n",
    "\n",
    "#[[x,sorted(w),sorted(fpce_coms[z-1]), set(w) <= set(fpce_coms[z-1])] for [x,y,z,w] in res_fpce if len(y) >= 1]\n",
    "overlappedFPCEclusters = [real_coms_w_names[x-1] for [x,y,z,w] in res_fpce if len(y) >= ov]\n",
    "overlappedCL1clusters = [real_coms_w_names[x-1] for [x,y,z,w] in res_cl1 if len(y) >= ov]"
   ]
  },
  {
   "cell_type": "code",
   "execution_count": null,
   "id": "ad5f5f4b",
   "metadata": {},
   "outputs": [],
   "source": [
    "len(overlappedCL1clusters)"
   ]
  },
  {
   "cell_type": "code",
   "execution_count": null,
   "id": "1da193ab",
   "metadata": {},
   "outputs": [],
   "source": [
    "len(overlappedFPCEclusters)"
   ]
  },
  {
   "cell_type": "code",
   "execution_count": null,
   "id": "ab2fde5f",
   "metadata": {
    "scrolled": true
   },
   "outputs": [],
   "source": [
    "IdxOfRealCommOverlappedFPCEclusters = [x for [x,y,_,_] in res_fpce if len(y)>=ov]\n",
    "i = 0\n",
    "for x in IdxOfRealCommOverlappedFPCEclusters:\n",
    "    print(x, real_coms_w_names[x-1][0], )\n",
    "    i+=1\n",
    "i"
   ]
  },
  {
   "cell_type": "code",
   "execution_count": null,
   "id": "18d64337",
   "metadata": {},
   "outputs": [],
   "source": [
    "len(res_cl1)"
   ]
  },
  {
   "cell_type": "code",
   "execution_count": null,
   "id": "5790f661",
   "metadata": {},
   "outputs": [],
   "source": [
    "fpceClustNames = set([overlappedFPCEclusters[x][0] for x in range(len(overlappedFPCEclusters))])\n",
    "cl1ClustNames = set([overlappedCL1clusters[x][0] for x in range(len(overlappedCL1clusters))])\n",
    "fpce_minus_cl1 = fpceClustNames.difference(cl1ClustNames)\n",
    "cl1_minus_fpce = cl1ClustNames.difference(fpceClustNames)\n",
    "print(fpce_minus_cl1, cl1_minus_fpce)"
   ]
  },
  {
   "cell_type": "markdown",
   "id": "f1956795",
   "metadata": {},
   "source": [
    "<b>\n",
    "\n",
    "We see that the following 7-4 = 3 complexes have >=3 common proteins with some FPCE clusters, \n",
    "but none of those have any common proteins with any CL1 clusters.\n",
    "--------------------------------------------\n",
    "CL#------Real-Community--------maxOverlap-with-FPCE----------maxOverlappedFPCE-cluster\n",
    "<br>\n",
    "'C764', ['atpD', 'atpG', 'atpA', 'atpH', 'atpC'],\n",
    "  ['atpA', 'atpH', 'atpC', 'atpD', 'atpG'],\n",
    "  ['atpA', 'atpD', 'atpC', 'atpG', 'atpH']\n",
    "<br>\n",
    "'C83', ['eno', 'pnp', 'rhlB', 'rne', 'ppk'], ['pnp', 'rne', 'rhlB'], ['rne', 'yfgB', 'pnp', 'rluB', 'srmB', 'rhlB']\n",
    "<br>\n",
    "'C909', ['atpC', 'atpH', 'atpA', 'atpG', 'atpD', 'atpE', 'atpF', 'atpB'],\n",
    "  ['atpA', 'atpE', 'atpC', 'atpD', 'atpG'],\n",
    "  ['atpA', 'atpD', 'atpC', 'atpG', 'atpE']\n",
    "</b>"
   ]
  },
  {
   "cell_type": "markdown",
   "id": "9f8f93ec",
   "metadata": {},
   "source": [
    "<strong>\n",
    "\n",
    "Moreover, no elment in cl1_minus_fpce =>\n",
    "\n",
    "No real complex exists which which has >=1 common proteins with some CL1 cluster, but don't \n",
    "have any overlap with any FPCE cluster.\n",
    "\n",
    "<strong>"
   ]
  },
  {
   "cell_type": "code",
   "execution_count": null,
   "id": "eec8ec40",
   "metadata": {
    "scrolled": true
   },
   "outputs": [],
   "source": [
    "[[real_coms_w_names[x-1], y, fpce_coms[z-1]] for [x,y,z,w] in res_fpce if len(y)>=1]"
   ]
  },
  {
   "cell_type": "markdown",
   "id": "15732dd0",
   "metadata": {},
   "source": [
    "<h3>\n",
    "Merge highly overlapping clusters and complete their enrichment analyses\n",
    "</h3>"
   ]
  },
  {
   "cell_type": "code",
   "execution_count": null,
   "id": "170067e6",
   "metadata": {},
   "outputs": [],
   "source": [
    "import networkx as nx"
   ]
  },
  {
   "cell_type": "code",
   "execution_count": null,
   "id": "2bcc12d0",
   "metadata": {},
   "outputs": [],
   "source": [
    "def mergeOverlappingComs(coms, score_threshold=0.2): #default threshold is 0.2 based on Bader et al. 2001\n",
    "    G = nx.Graph()\n",
    "    for i in range(len(coms)-1):\n",
    "        G.add_node(i)\n",
    "        for j in range(i+1, len(coms)):\n",
    "            score = matching_score(set(coms[i]), set(coms[j]))\n",
    "            if score >= score_threshold:\n",
    "                G.add_edge(i,j)\n",
    "                break\n",
    "    G.add_node(len(coms)-1)\n",
    "    ccs = [cc for cc in nx.connected_components(G)]\n",
    "    #print(ccs)\n",
    "    mergedComs = []\n",
    "    for cc in ccs:\n",
    "        overlappedComs = [coms[k] for k in cc]\n",
    "        #print(overlappedComs)\n",
    "        mergedCom = set().union(*overlappedComs)\n",
    "        mcm = sorted(mergedCom)\n",
    "        mergedComs.append(list(mcm))\n",
    "    return mergedComs"
   ]
  },
  {
   "cell_type": "code",
   "execution_count": null,
   "id": "72d19a72",
   "metadata": {},
   "outputs": [],
   "source": [
    "fpce_mcoms = mergeOverlappingComs(fpce_coms)\n",
    "with open('fpce-ov-graph-ccs.txt','w') as f:\n",
    "    for i in fpce_mcoms:\n",
    "        f.write(' '.join(i))\n",
    "        f.write('\\n')"
   ]
  },
  {
   "cell_type": "code",
   "execution_count": null,
   "id": "ce65c566",
   "metadata": {},
   "outputs": [],
   "source": [
    "! ln=1;cat fpce-ov-graph-ccs.txt | while read line; do echo $line | tr ' ' '\\n' > tmp.study; python goatools-main/scripts/find_enrichment.py tmp.study e-coli-data/ecoli-all.pop e-coli-data/ecocyc-gene2golist.txt --outfile=goea-fpce-ov-graph-comm-\"$ln\".tsv --pval_field=fdr_bh --ns=CC --ev_exc=IEA --pval=0.05; ((ln+=1)); done"
   ]
  },
  {
   "cell_type": "code",
   "execution_count": null,
   "id": "bfb293c0",
   "metadata": {},
   "outputs": [],
   "source": [
    "cl1_mcoms = mergeOverlappingComs(cl1_coms)\n",
    "with open('cl1-ov-graph-ccs.txt','w') as f:\n",
    "    for i in cl1_mcoms:\n",
    "        f.write(' '.join(i))\n",
    "        f.write('\\n')"
   ]
  },
  {
   "cell_type": "code",
   "execution_count": null,
   "id": "7c3f460a",
   "metadata": {},
   "outputs": [],
   "source": [
    "! ln=1;cat cl1-ov-graph-ccs.txt | while read line; do echo $line | tr ' ' '\\n' > tmp.study; python goatools-main/scripts/find_enrichment.py tmp.study e-coli-data/ecoli-all.pop e-coli-data/ecocyc-gene2golist.txt --outfile=goea-cl1-ov-graph-comm-\"$ln\".tsv --pval_field=fdr_bh --ns=CC --ev_exc=IEA --pval=0.05; ((ln+=1)); done"
   ]
  },
  {
   "cell_type": "code",
   "execution_count": null,
   "id": "abffcbd0",
   "metadata": {},
   "outputs": [],
   "source": [
    "print(len(cl1_mcoms), len(fpce_mcoms))"
   ]
  },
  {
   "cell_type": "code",
   "execution_count": null,
   "id": "fbc05414",
   "metadata": {},
   "outputs": [],
   "source": [
    "! ls -1 goea-cl1-ov-graph-comm-* |wc -l"
   ]
  },
  {
   "cell_type": "code",
   "execution_count": null,
   "id": "bb91aaee",
   "metadata": {},
   "outputs": [],
   "source": [
    "! ls -1 goea-fpce-ov-graph-comm-* |wc -l"
   ]
  },
  {
   "cell_type": "code",
   "execution_count": null,
   "id": "061eefd0",
   "metadata": {},
   "outputs": [],
   "source": [
    "print(\"%enriched among CL1 merged clusters: \", 100*8/13)\n",
    "print(\"%enriched among FPCE merged clusters: \", 100*15/18)"
   ]
  },
  {
   "cell_type": "code",
   "execution_count": null,
   "id": "8f959b9e",
   "metadata": {},
   "outputs": [],
   "source": [
    "! grep -hv \\# goea-cl1-ov-graph-comm-*.tsv | cut -f1 | sort | uniq > cl1-enriched-uniq-go-terms.txt\n",
    "! grep -hv \\# goea-fpce-ov-graph-comm-*.tsv | cut -f1 | sort | uniq > fpce-enriched-uniq-go-terms.txt"
   ]
  },
  {
   "cell_type": "code",
   "execution_count": null,
   "id": "29bc8fdb",
   "metadata": {},
   "outputs": [],
   "source": [
    "def enrichedTerms(file):\n",
    "    with open(file) as file:\n",
    "        eterms = [line.rstrip() for line in file]\n",
    "    return eterms"
   ]
  },
  {
   "cell_type": "code",
   "execution_count": null,
   "id": "191b6709",
   "metadata": {},
   "outputs": [],
   "source": [
    "cl1_en_terms = enrichedTerms('cl1-enriched-uniq-go-terms.txt')\n",
    "fpce_en_terms = enrichedTerms('fpce-enriched-uniq-go-terms.txt')\n",
    "len(cl1_en_terms)"
   ]
  },
  {
   "cell_type": "code",
   "execution_count": null,
   "id": "8966e1ef",
   "metadata": {},
   "outputs": [],
   "source": [
    "fpce_minus_cl1_et = set(fpce_en_terms).difference(cl1_en_terms)\n",
    "len(fpce_minus_cl1_et)"
   ]
  },
  {
   "cell_type": "code",
   "execution_count": null,
   "id": "9d5eca51",
   "metadata": {},
   "outputs": [],
   "source": [
    "cl1_minus_fpce_et = set(cl1_en_terms).difference(fpce_en_terms)\n",
    "cl1_minus_fpce_et #### FIND which are these two, are they ancestors of some GO terms enriched in FPCE??? In that case, they add no new info"
   ]
  },
  {
   "cell_type": "code",
   "execution_count": null,
   "id": "0becc27e",
   "metadata": {},
   "outputs": [],
   "source": []
  },
  {
   "cell_type": "code",
   "execution_count": null,
   "id": "7127b343",
   "metadata": {},
   "outputs": [],
   "source": []
  },
  {
   "cell_type": "code",
   "execution_count": null,
   "id": "91b4b87c",
   "metadata": {},
   "outputs": [],
   "source": []
  }
 ],
 "metadata": {
  "kernelspec": {
   "display_name": "Python 3 (ipykernel)",
   "language": "python",
   "name": "python3"
  },
  "language_info": {
   "codemirror_mode": {
    "name": "ipython",
    "version": 3
   },
   "file_extension": ".py",
   "mimetype": "text/x-python",
   "name": "python",
   "nbconvert_exporter": "python",
   "pygments_lexer": "ipython3",
   "version": "3.9.13"
  }
 },
 "nbformat": 4,
 "nbformat_minor": 5
}
