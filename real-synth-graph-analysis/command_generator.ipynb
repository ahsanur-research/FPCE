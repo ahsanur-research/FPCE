{
 "cells": [
  {
   "cell_type": "code",
   "execution_count": 1,
   "metadata": {},
   "outputs": [],
   "source": [
    "import os, sys"
   ]
  },
  {
   "cell_type": "code",
   "execution_count": 14,
   "metadata": {},
   "outputs": [],
   "source": [
    "# make folders\n",
    "root = '.'\n",
    "\n",
    "sub_folders = ['synth-graphs', 'real-graphs']\n",
    "codes = ['pce', 'fpce', 'fpce_wo_eb']\n",
    "lower_bounds = [10]\n",
    "\n",
    "\n",
    "for folder in ['log', 'output']:\n",
    "    for sub_folder in sub_folders:\n",
    "        for code in codes:\n",
    "            for l in lower_bounds:\n",
    "                path = os.path.join(root, folder, code, sub_folder, 'l='+str(l))\n",
    "                try:\n",
    "                    os.makedirs(path)\n",
    "                except OSError:\n",
    "                    pass\n"
   ]
  },
  {
   "cell_type": "code",
   "execution_count": 18,
   "metadata": {},
   "outputs": [],
   "source": [
    "synth_main_command = '/usr/bin/time -o log/{code}/{sub_folder}/l={l}/time_{code}_{graph_name}_m_{m}_l_{l}_{d}.txt -f \"RSS=%M TIME=%S+%U\" {code} M -l {l} ./{sub_folder}/{graph_name}_m_{m}.grh {d} > log/{code}/{sub_folder}/l={l}/log_{code}_{graph_name}_m_{m}_l_{l}_{d}.txt'"
   ]
  },
  {
   "cell_type": "code",
   "execution_count": 21,
   "metadata": {},
   "outputs": [
    {
     "name": "stdout",
     "output_type": "stream",
     "text": [
      "/usr/bin/time -o log/pce/synth-graphs/l=10/time_pce_small_world_m_5_l_10_0.9.txt -f \"RSS=%M TIME=%S+%U\" pce M -l 10 ./synth-graphs/small_world_m_5.grh 0.9 > log/pce/synth-graphs/l=10/log_pce_small_world_m_5_l_10_0.9.txt\n",
      "/usr/bin/time -o log/pce/synth-graphs/l=10/time_pce_small_world_m_5_l_10_0.8.txt -f \"RSS=%M TIME=%S+%U\" pce M -l 10 ./synth-graphs/small_world_m_5.grh 0.8 > log/pce/synth-graphs/l=10/log_pce_small_world_m_5_l_10_0.8.txt\n",
      "/usr/bin/time -o log/fpce/synth-graphs/l=10/time_fpce_small_world_m_5_l_10_0.9.txt -f \"RSS=%M TIME=%S+%U\" fpce M -l 10 ./synth-graphs/small_world_m_5.grh 0.9 > log/fpce/synth-graphs/l=10/log_fpce_small_world_m_5_l_10_0.9.txt\n",
      "/usr/bin/time -o log/fpce/synth-graphs/l=10/time_fpce_small_world_m_5_l_10_0.8.txt -f \"RSS=%M TIME=%S+%U\" fpce M -l 10 ./synth-graphs/small_world_m_5.grh 0.8 > log/fpce/synth-graphs/l=10/log_fpce_small_world_m_5_l_10_0.8.txt\n",
      "/usr/bin/time -o log/fpce_wo_eb/synth-graphs/l=10/time_fpce_wo_eb_small_world_m_5_l_10_0.9.txt -f \"RSS=%M TIME=%S+%U\" fpce_wo_eb M -l 10 ./synth-graphs/small_world_m_5.grh 0.9 > log/fpce_wo_eb/synth-graphs/l=10/log_fpce_wo_eb_small_world_m_5_l_10_0.9.txt\n",
      "/usr/bin/time -o log/fpce_wo_eb/synth-graphs/l=10/time_fpce_wo_eb_small_world_m_5_l_10_0.8.txt -f \"RSS=%M TIME=%S+%U\" fpce_wo_eb M -l 10 ./synth-graphs/small_world_m_5.grh 0.8 > log/fpce_wo_eb/synth-graphs/l=10/log_fpce_wo_eb_small_world_m_5_l_10_0.8.txt\n",
      "/usr/bin/time -o log/pce/synth-graphs/l=10/time_pce_scale_free_m_5_l_10_0.9.txt -f \"RSS=%M TIME=%S+%U\" pce M -l 10 ./synth-graphs/scale_free_m_5.grh 0.9 > log/pce/synth-graphs/l=10/log_pce_scale_free_m_5_l_10_0.9.txt\n",
      "/usr/bin/time -o log/pce/synth-graphs/l=10/time_pce_scale_free_m_5_l_10_0.8.txt -f \"RSS=%M TIME=%S+%U\" pce M -l 10 ./synth-graphs/scale_free_m_5.grh 0.8 > log/pce/synth-graphs/l=10/log_pce_scale_free_m_5_l_10_0.8.txt\n",
      "/usr/bin/time -o log/fpce/synth-graphs/l=10/time_fpce_scale_free_m_5_l_10_0.9.txt -f \"RSS=%M TIME=%S+%U\" fpce M -l 10 ./synth-graphs/scale_free_m_5.grh 0.9 > log/fpce/synth-graphs/l=10/log_fpce_scale_free_m_5_l_10_0.9.txt\n",
      "/usr/bin/time -o log/fpce/synth-graphs/l=10/time_fpce_scale_free_m_5_l_10_0.8.txt -f \"RSS=%M TIME=%S+%U\" fpce M -l 10 ./synth-graphs/scale_free_m_5.grh 0.8 > log/fpce/synth-graphs/l=10/log_fpce_scale_free_m_5_l_10_0.8.txt\n",
      "/usr/bin/time -o log/fpce_wo_eb/synth-graphs/l=10/time_fpce_wo_eb_scale_free_m_5_l_10_0.9.txt -f \"RSS=%M TIME=%S+%U\" fpce_wo_eb M -l 10 ./synth-graphs/scale_free_m_5.grh 0.9 > log/fpce_wo_eb/synth-graphs/l=10/log_fpce_wo_eb_scale_free_m_5_l_10_0.9.txt\n",
      "/usr/bin/time -o log/fpce_wo_eb/synth-graphs/l=10/time_fpce_wo_eb_scale_free_m_5_l_10_0.8.txt -f \"RSS=%M TIME=%S+%U\" fpce_wo_eb M -l 10 ./synth-graphs/scale_free_m_5.grh 0.8 > log/fpce_wo_eb/synth-graphs/l=10/log_fpce_wo_eb_scale_free_m_5_l_10_0.8.txt\n",
      "/usr/bin/time -o log/pce/synth-graphs/l=10/time_pce_small_world_m_10_l_10_0.9.txt -f \"RSS=%M TIME=%S+%U\" pce M -l 10 ./synth-graphs/small_world_m_10.grh 0.9 > log/pce/synth-graphs/l=10/log_pce_small_world_m_10_l_10_0.9.txt\n",
      "/usr/bin/time -o log/pce/synth-graphs/l=10/time_pce_small_world_m_10_l_10_0.8.txt -f \"RSS=%M TIME=%S+%U\" pce M -l 10 ./synth-graphs/small_world_m_10.grh 0.8 > log/pce/synth-graphs/l=10/log_pce_small_world_m_10_l_10_0.8.txt\n",
      "/usr/bin/time -o log/fpce/synth-graphs/l=10/time_fpce_small_world_m_10_l_10_0.9.txt -f \"RSS=%M TIME=%S+%U\" fpce M -l 10 ./synth-graphs/small_world_m_10.grh 0.9 > log/fpce/synth-graphs/l=10/log_fpce_small_world_m_10_l_10_0.9.txt\n",
      "/usr/bin/time -o log/fpce/synth-graphs/l=10/time_fpce_small_world_m_10_l_10_0.8.txt -f \"RSS=%M TIME=%S+%U\" fpce M -l 10 ./synth-graphs/small_world_m_10.grh 0.8 > log/fpce/synth-graphs/l=10/log_fpce_small_world_m_10_l_10_0.8.txt\n",
      "/usr/bin/time -o log/fpce_wo_eb/synth-graphs/l=10/time_fpce_wo_eb_small_world_m_10_l_10_0.9.txt -f \"RSS=%M TIME=%S+%U\" fpce_wo_eb M -l 10 ./synth-graphs/small_world_m_10.grh 0.9 > log/fpce_wo_eb/synth-graphs/l=10/log_fpce_wo_eb_small_world_m_10_l_10_0.9.txt\n",
      "/usr/bin/time -o log/fpce_wo_eb/synth-graphs/l=10/time_fpce_wo_eb_small_world_m_10_l_10_0.8.txt -f \"RSS=%M TIME=%S+%U\" fpce_wo_eb M -l 10 ./synth-graphs/small_world_m_10.grh 0.8 > log/fpce_wo_eb/synth-graphs/l=10/log_fpce_wo_eb_small_world_m_10_l_10_0.8.txt\n",
      "/usr/bin/time -o log/pce/synth-graphs/l=10/time_pce_scale_free_m_10_l_10_0.9.txt -f \"RSS=%M TIME=%S+%U\" pce M -l 10 ./synth-graphs/scale_free_m_10.grh 0.9 > log/pce/synth-graphs/l=10/log_pce_scale_free_m_10_l_10_0.9.txt\n",
      "/usr/bin/time -o log/pce/synth-graphs/l=10/time_pce_scale_free_m_10_l_10_0.8.txt -f \"RSS=%M TIME=%S+%U\" pce M -l 10 ./synth-graphs/scale_free_m_10.grh 0.8 > log/pce/synth-graphs/l=10/log_pce_scale_free_m_10_l_10_0.8.txt\n",
      "/usr/bin/time -o log/fpce/synth-graphs/l=10/time_fpce_scale_free_m_10_l_10_0.9.txt -f \"RSS=%M TIME=%S+%U\" fpce M -l 10 ./synth-graphs/scale_free_m_10.grh 0.9 > log/fpce/synth-graphs/l=10/log_fpce_scale_free_m_10_l_10_0.9.txt\n",
      "/usr/bin/time -o log/fpce/synth-graphs/l=10/time_fpce_scale_free_m_10_l_10_0.8.txt -f \"RSS=%M TIME=%S+%U\" fpce M -l 10 ./synth-graphs/scale_free_m_10.grh 0.8 > log/fpce/synth-graphs/l=10/log_fpce_scale_free_m_10_l_10_0.8.txt\n",
      "/usr/bin/time -o log/fpce_wo_eb/synth-graphs/l=10/time_fpce_wo_eb_scale_free_m_10_l_10_0.9.txt -f \"RSS=%M TIME=%S+%U\" fpce_wo_eb M -l 10 ./synth-graphs/scale_free_m_10.grh 0.9 > log/fpce_wo_eb/synth-graphs/l=10/log_fpce_wo_eb_scale_free_m_10_l_10_0.9.txt\n",
      "/usr/bin/time -o log/fpce_wo_eb/synth-graphs/l=10/time_fpce_wo_eb_scale_free_m_10_l_10_0.8.txt -f \"RSS=%M TIME=%S+%U\" fpce_wo_eb M -l 10 ./synth-graphs/scale_free_m_10.grh 0.8 > log/fpce_wo_eb/synth-graphs/l=10/log_fpce_wo_eb_scale_free_m_10_l_10_0.8.txt\n",
      "/usr/bin/time -o log/pce/synth-graphs/l=10/time_pce_small_world_m_15_l_10_0.9.txt -f \"RSS=%M TIME=%S+%U\" pce M -l 10 ./synth-graphs/small_world_m_15.grh 0.9 > log/pce/synth-graphs/l=10/log_pce_small_world_m_15_l_10_0.9.txt\n",
      "/usr/bin/time -o log/pce/synth-graphs/l=10/time_pce_small_world_m_15_l_10_0.8.txt -f \"RSS=%M TIME=%S+%U\" pce M -l 10 ./synth-graphs/small_world_m_15.grh 0.8 > log/pce/synth-graphs/l=10/log_pce_small_world_m_15_l_10_0.8.txt\n",
      "/usr/bin/time -o log/fpce/synth-graphs/l=10/time_fpce_small_world_m_15_l_10_0.9.txt -f \"RSS=%M TIME=%S+%U\" fpce M -l 10 ./synth-graphs/small_world_m_15.grh 0.9 > log/fpce/synth-graphs/l=10/log_fpce_small_world_m_15_l_10_0.9.txt\n",
      "/usr/bin/time -o log/fpce/synth-graphs/l=10/time_fpce_small_world_m_15_l_10_0.8.txt -f \"RSS=%M TIME=%S+%U\" fpce M -l 10 ./synth-graphs/small_world_m_15.grh 0.8 > log/fpce/synth-graphs/l=10/log_fpce_small_world_m_15_l_10_0.8.txt\n",
      "/usr/bin/time -o log/fpce_wo_eb/synth-graphs/l=10/time_fpce_wo_eb_small_world_m_15_l_10_0.9.txt -f \"RSS=%M TIME=%S+%U\" fpce_wo_eb M -l 10 ./synth-graphs/small_world_m_15.grh 0.9 > log/fpce_wo_eb/synth-graphs/l=10/log_fpce_wo_eb_small_world_m_15_l_10_0.9.txt\n",
      "/usr/bin/time -o log/fpce_wo_eb/synth-graphs/l=10/time_fpce_wo_eb_small_world_m_15_l_10_0.8.txt -f \"RSS=%M TIME=%S+%U\" fpce_wo_eb M -l 10 ./synth-graphs/small_world_m_15.grh 0.8 > log/fpce_wo_eb/synth-graphs/l=10/log_fpce_wo_eb_small_world_m_15_l_10_0.8.txt\n",
      "/usr/bin/time -o log/pce/synth-graphs/l=10/time_pce_scale_free_m_15_l_10_0.9.txt -f \"RSS=%M TIME=%S+%U\" pce M -l 10 ./synth-graphs/scale_free_m_15.grh 0.9 > log/pce/synth-graphs/l=10/log_pce_scale_free_m_15_l_10_0.9.txt\n",
      "/usr/bin/time -o log/pce/synth-graphs/l=10/time_pce_scale_free_m_15_l_10_0.8.txt -f \"RSS=%M TIME=%S+%U\" pce M -l 10 ./synth-graphs/scale_free_m_15.grh 0.8 > log/pce/synth-graphs/l=10/log_pce_scale_free_m_15_l_10_0.8.txt\n",
      "/usr/bin/time -o log/fpce/synth-graphs/l=10/time_fpce_scale_free_m_15_l_10_0.9.txt -f \"RSS=%M TIME=%S+%U\" fpce M -l 10 ./synth-graphs/scale_free_m_15.grh 0.9 > log/fpce/synth-graphs/l=10/log_fpce_scale_free_m_15_l_10_0.9.txt\n",
      "/usr/bin/time -o log/fpce/synth-graphs/l=10/time_fpce_scale_free_m_15_l_10_0.8.txt -f \"RSS=%M TIME=%S+%U\" fpce M -l 10 ./synth-graphs/scale_free_m_15.grh 0.8 > log/fpce/synth-graphs/l=10/log_fpce_scale_free_m_15_l_10_0.8.txt\n",
      "/usr/bin/time -o log/fpce_wo_eb/synth-graphs/l=10/time_fpce_wo_eb_scale_free_m_15_l_10_0.9.txt -f \"RSS=%M TIME=%S+%U\" fpce_wo_eb M -l 10 ./synth-graphs/scale_free_m_15.grh 0.9 > log/fpce_wo_eb/synth-graphs/l=10/log_fpce_wo_eb_scale_free_m_15_l_10_0.9.txt\n",
      "/usr/bin/time -o log/fpce_wo_eb/synth-graphs/l=10/time_fpce_wo_eb_scale_free_m_15_l_10_0.8.txt -f \"RSS=%M TIME=%S+%U\" fpce_wo_eb M -l 10 ./synth-graphs/scale_free_m_15.grh 0.8 > log/fpce_wo_eb/synth-graphs/l=10/log_fpce_wo_eb_scale_free_m_15_l_10_0.8.txt\n",
      "/usr/bin/time -o log/pce/synth-graphs/l=10/time_pce_small_world_m_20_l_10_0.9.txt -f \"RSS=%M TIME=%S+%U\" pce M -l 10 ./synth-graphs/small_world_m_20.grh 0.9 > log/pce/synth-graphs/l=10/log_pce_small_world_m_20_l_10_0.9.txt\n",
      "/usr/bin/time -o log/pce/synth-graphs/l=10/time_pce_small_world_m_20_l_10_0.8.txt -f \"RSS=%M TIME=%S+%U\" pce M -l 10 ./synth-graphs/small_world_m_20.grh 0.8 > log/pce/synth-graphs/l=10/log_pce_small_world_m_20_l_10_0.8.txt\n",
      "/usr/bin/time -o log/fpce/synth-graphs/l=10/time_fpce_small_world_m_20_l_10_0.9.txt -f \"RSS=%M TIME=%S+%U\" fpce M -l 10 ./synth-graphs/small_world_m_20.grh 0.9 > log/fpce/synth-graphs/l=10/log_fpce_small_world_m_20_l_10_0.9.txt\n",
      "/usr/bin/time -o log/fpce/synth-graphs/l=10/time_fpce_small_world_m_20_l_10_0.8.txt -f \"RSS=%M TIME=%S+%U\" fpce M -l 10 ./synth-graphs/small_world_m_20.grh 0.8 > log/fpce/synth-graphs/l=10/log_fpce_small_world_m_20_l_10_0.8.txt\n",
      "/usr/bin/time -o log/fpce_wo_eb/synth-graphs/l=10/time_fpce_wo_eb_small_world_m_20_l_10_0.9.txt -f \"RSS=%M TIME=%S+%U\" fpce_wo_eb M -l 10 ./synth-graphs/small_world_m_20.grh 0.9 > log/fpce_wo_eb/synth-graphs/l=10/log_fpce_wo_eb_small_world_m_20_l_10_0.9.txt\n",
      "/usr/bin/time -o log/fpce_wo_eb/synth-graphs/l=10/time_fpce_wo_eb_small_world_m_20_l_10_0.8.txt -f \"RSS=%M TIME=%S+%U\" fpce_wo_eb M -l 10 ./synth-graphs/small_world_m_20.grh 0.8 > log/fpce_wo_eb/synth-graphs/l=10/log_fpce_wo_eb_small_world_m_20_l_10_0.8.txt\n",
      "/usr/bin/time -o log/pce/synth-graphs/l=10/time_pce_scale_free_m_20_l_10_0.9.txt -f \"RSS=%M TIME=%S+%U\" pce M -l 10 ./synth-graphs/scale_free_m_20.grh 0.9 > log/pce/synth-graphs/l=10/log_pce_scale_free_m_20_l_10_0.9.txt\n",
      "/usr/bin/time -o log/pce/synth-graphs/l=10/time_pce_scale_free_m_20_l_10_0.8.txt -f \"RSS=%M TIME=%S+%U\" pce M -l 10 ./synth-graphs/scale_free_m_20.grh 0.8 > log/pce/synth-graphs/l=10/log_pce_scale_free_m_20_l_10_0.8.txt\n",
      "/usr/bin/time -o log/fpce/synth-graphs/l=10/time_fpce_scale_free_m_20_l_10_0.9.txt -f \"RSS=%M TIME=%S+%U\" fpce M -l 10 ./synth-graphs/scale_free_m_20.grh 0.9 > log/fpce/synth-graphs/l=10/log_fpce_scale_free_m_20_l_10_0.9.txt\n",
      "/usr/bin/time -o log/fpce/synth-graphs/l=10/time_fpce_scale_free_m_20_l_10_0.8.txt -f \"RSS=%M TIME=%S+%U\" fpce M -l 10 ./synth-graphs/scale_free_m_20.grh 0.8 > log/fpce/synth-graphs/l=10/log_fpce_scale_free_m_20_l_10_0.8.txt\n",
      "/usr/bin/time -o log/fpce_wo_eb/synth-graphs/l=10/time_fpce_wo_eb_scale_free_m_20_l_10_0.9.txt -f \"RSS=%M TIME=%S+%U\" fpce_wo_eb M -l 10 ./synth-graphs/scale_free_m_20.grh 0.9 > log/fpce_wo_eb/synth-graphs/l=10/log_fpce_wo_eb_scale_free_m_20_l_10_0.9.txt\n",
      "/usr/bin/time -o log/fpce_wo_eb/synth-graphs/l=10/time_fpce_wo_eb_scale_free_m_20_l_10_0.8.txt -f \"RSS=%M TIME=%S+%U\" fpce_wo_eb M -l 10 ./synth-graphs/scale_free_m_20.grh 0.8 > log/fpce_wo_eb/synth-graphs/l=10/log_fpce_wo_eb_scale_free_m_20_l_10_0.8.txt\n",
      "/usr/bin/time -o log/pce/synth-graphs/l=10/time_pce_small_world_m_25_l_10_0.9.txt -f \"RSS=%M TIME=%S+%U\" pce M -l 10 ./synth-graphs/small_world_m_25.grh 0.9 > log/pce/synth-graphs/l=10/log_pce_small_world_m_25_l_10_0.9.txt\n",
      "/usr/bin/time -o log/pce/synth-graphs/l=10/time_pce_small_world_m_25_l_10_0.8.txt -f \"RSS=%M TIME=%S+%U\" pce M -l 10 ./synth-graphs/small_world_m_25.grh 0.8 > log/pce/synth-graphs/l=10/log_pce_small_world_m_25_l_10_0.8.txt\n",
      "/usr/bin/time -o log/fpce/synth-graphs/l=10/time_fpce_small_world_m_25_l_10_0.9.txt -f \"RSS=%M TIME=%S+%U\" fpce M -l 10 ./synth-graphs/small_world_m_25.grh 0.9 > log/fpce/synth-graphs/l=10/log_fpce_small_world_m_25_l_10_0.9.txt\n",
      "/usr/bin/time -o log/fpce/synth-graphs/l=10/time_fpce_small_world_m_25_l_10_0.8.txt -f \"RSS=%M TIME=%S+%U\" fpce M -l 10 ./synth-graphs/small_world_m_25.grh 0.8 > log/fpce/synth-graphs/l=10/log_fpce_small_world_m_25_l_10_0.8.txt\n",
      "/usr/bin/time -o log/fpce_wo_eb/synth-graphs/l=10/time_fpce_wo_eb_small_world_m_25_l_10_0.9.txt -f \"RSS=%M TIME=%S+%U\" fpce_wo_eb M -l 10 ./synth-graphs/small_world_m_25.grh 0.9 > log/fpce_wo_eb/synth-graphs/l=10/log_fpce_wo_eb_small_world_m_25_l_10_0.9.txt\n",
      "/usr/bin/time -o log/fpce_wo_eb/synth-graphs/l=10/time_fpce_wo_eb_small_world_m_25_l_10_0.8.txt -f \"RSS=%M TIME=%S+%U\" fpce_wo_eb M -l 10 ./synth-graphs/small_world_m_25.grh 0.8 > log/fpce_wo_eb/synth-graphs/l=10/log_fpce_wo_eb_small_world_m_25_l_10_0.8.txt\n",
      "/usr/bin/time -o log/pce/synth-graphs/l=10/time_pce_scale_free_m_25_l_10_0.9.txt -f \"RSS=%M TIME=%S+%U\" pce M -l 10 ./synth-graphs/scale_free_m_25.grh 0.9 > log/pce/synth-graphs/l=10/log_pce_scale_free_m_25_l_10_0.9.txt\n",
      "/usr/bin/time -o log/pce/synth-graphs/l=10/time_pce_scale_free_m_25_l_10_0.8.txt -f \"RSS=%M TIME=%S+%U\" pce M -l 10 ./synth-graphs/scale_free_m_25.grh 0.8 > log/pce/synth-graphs/l=10/log_pce_scale_free_m_25_l_10_0.8.txt\n",
      "/usr/bin/time -o log/fpce/synth-graphs/l=10/time_fpce_scale_free_m_25_l_10_0.9.txt -f \"RSS=%M TIME=%S+%U\" fpce M -l 10 ./synth-graphs/scale_free_m_25.grh 0.9 > log/fpce/synth-graphs/l=10/log_fpce_scale_free_m_25_l_10_0.9.txt\n",
      "/usr/bin/time -o log/fpce/synth-graphs/l=10/time_fpce_scale_free_m_25_l_10_0.8.txt -f \"RSS=%M TIME=%S+%U\" fpce M -l 10 ./synth-graphs/scale_free_m_25.grh 0.8 > log/fpce/synth-graphs/l=10/log_fpce_scale_free_m_25_l_10_0.8.txt\n",
      "/usr/bin/time -o log/fpce_wo_eb/synth-graphs/l=10/time_fpce_wo_eb_scale_free_m_25_l_10_0.9.txt -f \"RSS=%M TIME=%S+%U\" fpce_wo_eb M -l 10 ./synth-graphs/scale_free_m_25.grh 0.9 > log/fpce_wo_eb/synth-graphs/l=10/log_fpce_wo_eb_scale_free_m_25_l_10_0.9.txt\n",
      "/usr/bin/time -o log/fpce_wo_eb/synth-graphs/l=10/time_fpce_wo_eb_scale_free_m_25_l_10_0.8.txt -f \"RSS=%M TIME=%S+%U\" fpce_wo_eb M -l 10 ./synth-graphs/scale_free_m_25.grh 0.8 > log/fpce_wo_eb/synth-graphs/l=10/log_fpce_wo_eb_scale_free_m_25_l_10_0.8.txt\n",
      "/usr/bin/time -o log/pce/synth-graphs/l=10/time_pce_small_world_m_30_l_10_0.9.txt -f \"RSS=%M TIME=%S+%U\" pce M -l 10 ./synth-graphs/small_world_m_30.grh 0.9 > log/pce/synth-graphs/l=10/log_pce_small_world_m_30_l_10_0.9.txt\n",
      "/usr/bin/time -o log/pce/synth-graphs/l=10/time_pce_small_world_m_30_l_10_0.8.txt -f \"RSS=%M TIME=%S+%U\" pce M -l 10 ./synth-graphs/small_world_m_30.grh 0.8 > log/pce/synth-graphs/l=10/log_pce_small_world_m_30_l_10_0.8.txt\n",
      "/usr/bin/time -o log/fpce/synth-graphs/l=10/time_fpce_small_world_m_30_l_10_0.9.txt -f \"RSS=%M TIME=%S+%U\" fpce M -l 10 ./synth-graphs/small_world_m_30.grh 0.9 > log/fpce/synth-graphs/l=10/log_fpce_small_world_m_30_l_10_0.9.txt\n",
      "/usr/bin/time -o log/fpce/synth-graphs/l=10/time_fpce_small_world_m_30_l_10_0.8.txt -f \"RSS=%M TIME=%S+%U\" fpce M -l 10 ./synth-graphs/small_world_m_30.grh 0.8 > log/fpce/synth-graphs/l=10/log_fpce_small_world_m_30_l_10_0.8.txt\n",
      "/usr/bin/time -o log/fpce_wo_eb/synth-graphs/l=10/time_fpce_wo_eb_small_world_m_30_l_10_0.9.txt -f \"RSS=%M TIME=%S+%U\" fpce_wo_eb M -l 10 ./synth-graphs/small_world_m_30.grh 0.9 > log/fpce_wo_eb/synth-graphs/l=10/log_fpce_wo_eb_small_world_m_30_l_10_0.9.txt\n",
      "/usr/bin/time -o log/fpce_wo_eb/synth-graphs/l=10/time_fpce_wo_eb_small_world_m_30_l_10_0.8.txt -f \"RSS=%M TIME=%S+%U\" fpce_wo_eb M -l 10 ./synth-graphs/small_world_m_30.grh 0.8 > log/fpce_wo_eb/synth-graphs/l=10/log_fpce_wo_eb_small_world_m_30_l_10_0.8.txt\n",
      "/usr/bin/time -o log/pce/synth-graphs/l=10/time_pce_scale_free_m_30_l_10_0.9.txt -f \"RSS=%M TIME=%S+%U\" pce M -l 10 ./synth-graphs/scale_free_m_30.grh 0.9 > log/pce/synth-graphs/l=10/log_pce_scale_free_m_30_l_10_0.9.txt\n",
      "/usr/bin/time -o log/pce/synth-graphs/l=10/time_pce_scale_free_m_30_l_10_0.8.txt -f \"RSS=%M TIME=%S+%U\" pce M -l 10 ./synth-graphs/scale_free_m_30.grh 0.8 > log/pce/synth-graphs/l=10/log_pce_scale_free_m_30_l_10_0.8.txt\n",
      "/usr/bin/time -o log/fpce/synth-graphs/l=10/time_fpce_scale_free_m_30_l_10_0.9.txt -f \"RSS=%M TIME=%S+%U\" fpce M -l 10 ./synth-graphs/scale_free_m_30.grh 0.9 > log/fpce/synth-graphs/l=10/log_fpce_scale_free_m_30_l_10_0.9.txt\n",
      "/usr/bin/time -o log/fpce/synth-graphs/l=10/time_fpce_scale_free_m_30_l_10_0.8.txt -f \"RSS=%M TIME=%S+%U\" fpce M -l 10 ./synth-graphs/scale_free_m_30.grh 0.8 > log/fpce/synth-graphs/l=10/log_fpce_scale_free_m_30_l_10_0.8.txt\n",
      "/usr/bin/time -o log/fpce_wo_eb/synth-graphs/l=10/time_fpce_wo_eb_scale_free_m_30_l_10_0.9.txt -f \"RSS=%M TIME=%S+%U\" fpce_wo_eb M -l 10 ./synth-graphs/scale_free_m_30.grh 0.9 > log/fpce_wo_eb/synth-graphs/l=10/log_fpce_wo_eb_scale_free_m_30_l_10_0.9.txt\n",
      "/usr/bin/time -o log/fpce_wo_eb/synth-graphs/l=10/time_fpce_wo_eb_scale_free_m_30_l_10_0.8.txt -f \"RSS=%M TIME=%S+%U\" fpce_wo_eb M -l 10 ./synth-graphs/scale_free_m_30.grh 0.8 > log/fpce_wo_eb/synth-graphs/l=10/log_fpce_wo_eb_scale_free_m_30_l_10_0.8.txt\n",
      "/usr/bin/time -o log/pce/synth-graphs/l=10/time_pce_small_world_m_35_l_10_0.9.txt -f \"RSS=%M TIME=%S+%U\" pce M -l 10 ./synth-graphs/small_world_m_35.grh 0.9 > log/pce/synth-graphs/l=10/log_pce_small_world_m_35_l_10_0.9.txt\n",
      "/usr/bin/time -o log/pce/synth-graphs/l=10/time_pce_small_world_m_35_l_10_0.8.txt -f \"RSS=%M TIME=%S+%U\" pce M -l 10 ./synth-graphs/small_world_m_35.grh 0.8 > log/pce/synth-graphs/l=10/log_pce_small_world_m_35_l_10_0.8.txt\n",
      "/usr/bin/time -o log/fpce/synth-graphs/l=10/time_fpce_small_world_m_35_l_10_0.9.txt -f \"RSS=%M TIME=%S+%U\" fpce M -l 10 ./synth-graphs/small_world_m_35.grh 0.9 > log/fpce/synth-graphs/l=10/log_fpce_small_world_m_35_l_10_0.9.txt\n",
      "/usr/bin/time -o log/fpce/synth-graphs/l=10/time_fpce_small_world_m_35_l_10_0.8.txt -f \"RSS=%M TIME=%S+%U\" fpce M -l 10 ./synth-graphs/small_world_m_35.grh 0.8 > log/fpce/synth-graphs/l=10/log_fpce_small_world_m_35_l_10_0.8.txt\n",
      "/usr/bin/time -o log/fpce_wo_eb/synth-graphs/l=10/time_fpce_wo_eb_small_world_m_35_l_10_0.9.txt -f \"RSS=%M TIME=%S+%U\" fpce_wo_eb M -l 10 ./synth-graphs/small_world_m_35.grh 0.9 > log/fpce_wo_eb/synth-graphs/l=10/log_fpce_wo_eb_small_world_m_35_l_10_0.9.txt\n",
      "/usr/bin/time -o log/fpce_wo_eb/synth-graphs/l=10/time_fpce_wo_eb_small_world_m_35_l_10_0.8.txt -f \"RSS=%M TIME=%S+%U\" fpce_wo_eb M -l 10 ./synth-graphs/small_world_m_35.grh 0.8 > log/fpce_wo_eb/synth-graphs/l=10/log_fpce_wo_eb_small_world_m_35_l_10_0.8.txt\n",
      "/usr/bin/time -o log/pce/synth-graphs/l=10/time_pce_scale_free_m_35_l_10_0.9.txt -f \"RSS=%M TIME=%S+%U\" pce M -l 10 ./synth-graphs/scale_free_m_35.grh 0.9 > log/pce/synth-graphs/l=10/log_pce_scale_free_m_35_l_10_0.9.txt\n",
      "/usr/bin/time -o log/pce/synth-graphs/l=10/time_pce_scale_free_m_35_l_10_0.8.txt -f \"RSS=%M TIME=%S+%U\" pce M -l 10 ./synth-graphs/scale_free_m_35.grh 0.8 > log/pce/synth-graphs/l=10/log_pce_scale_free_m_35_l_10_0.8.txt\n",
      "/usr/bin/time -o log/fpce/synth-graphs/l=10/time_fpce_scale_free_m_35_l_10_0.9.txt -f \"RSS=%M TIME=%S+%U\" fpce M -l 10 ./synth-graphs/scale_free_m_35.grh 0.9 > log/fpce/synth-graphs/l=10/log_fpce_scale_free_m_35_l_10_0.9.txt\n",
      "/usr/bin/time -o log/fpce/synth-graphs/l=10/time_fpce_scale_free_m_35_l_10_0.8.txt -f \"RSS=%M TIME=%S+%U\" fpce M -l 10 ./synth-graphs/scale_free_m_35.grh 0.8 > log/fpce/synth-graphs/l=10/log_fpce_scale_free_m_35_l_10_0.8.txt\n",
      "/usr/bin/time -o log/fpce_wo_eb/synth-graphs/l=10/time_fpce_wo_eb_scale_free_m_35_l_10_0.9.txt -f \"RSS=%M TIME=%S+%U\" fpce_wo_eb M -l 10 ./synth-graphs/scale_free_m_35.grh 0.9 > log/fpce_wo_eb/synth-graphs/l=10/log_fpce_wo_eb_scale_free_m_35_l_10_0.9.txt\n",
      "/usr/bin/time -o log/fpce_wo_eb/synth-graphs/l=10/time_fpce_wo_eb_scale_free_m_35_l_10_0.8.txt -f \"RSS=%M TIME=%S+%U\" fpce_wo_eb M -l 10 ./synth-graphs/scale_free_m_35.grh 0.8 > log/fpce_wo_eb/synth-graphs/l=10/log_fpce_wo_eb_scale_free_m_35_l_10_0.8.txt\n",
      "/usr/bin/time -o log/pce/synth-graphs/l=10/time_pce_small_world_m_40_l_10_0.9.txt -f \"RSS=%M TIME=%S+%U\" pce M -l 10 ./synth-graphs/small_world_m_40.grh 0.9 > log/pce/synth-graphs/l=10/log_pce_small_world_m_40_l_10_0.9.txt\n",
      "/usr/bin/time -o log/pce/synth-graphs/l=10/time_pce_small_world_m_40_l_10_0.8.txt -f \"RSS=%M TIME=%S+%U\" pce M -l 10 ./synth-graphs/small_world_m_40.grh 0.8 > log/pce/synth-graphs/l=10/log_pce_small_world_m_40_l_10_0.8.txt\n",
      "/usr/bin/time -o log/fpce/synth-graphs/l=10/time_fpce_small_world_m_40_l_10_0.9.txt -f \"RSS=%M TIME=%S+%U\" fpce M -l 10 ./synth-graphs/small_world_m_40.grh 0.9 > log/fpce/synth-graphs/l=10/log_fpce_small_world_m_40_l_10_0.9.txt\n",
      "/usr/bin/time -o log/fpce/synth-graphs/l=10/time_fpce_small_world_m_40_l_10_0.8.txt -f \"RSS=%M TIME=%S+%U\" fpce M -l 10 ./synth-graphs/small_world_m_40.grh 0.8 > log/fpce/synth-graphs/l=10/log_fpce_small_world_m_40_l_10_0.8.txt\n",
      "/usr/bin/time -o log/fpce_wo_eb/synth-graphs/l=10/time_fpce_wo_eb_small_world_m_40_l_10_0.9.txt -f \"RSS=%M TIME=%S+%U\" fpce_wo_eb M -l 10 ./synth-graphs/small_world_m_40.grh 0.9 > log/fpce_wo_eb/synth-graphs/l=10/log_fpce_wo_eb_small_world_m_40_l_10_0.9.txt\n",
      "/usr/bin/time -o log/fpce_wo_eb/synth-graphs/l=10/time_fpce_wo_eb_small_world_m_40_l_10_0.8.txt -f \"RSS=%M TIME=%S+%U\" fpce_wo_eb M -l 10 ./synth-graphs/small_world_m_40.grh 0.8 > log/fpce_wo_eb/synth-graphs/l=10/log_fpce_wo_eb_small_world_m_40_l_10_0.8.txt\n",
      "/usr/bin/time -o log/pce/synth-graphs/l=10/time_pce_scale_free_m_40_l_10_0.9.txt -f \"RSS=%M TIME=%S+%U\" pce M -l 10 ./synth-graphs/scale_free_m_40.grh 0.9 > log/pce/synth-graphs/l=10/log_pce_scale_free_m_40_l_10_0.9.txt\n",
      "/usr/bin/time -o log/pce/synth-graphs/l=10/time_pce_scale_free_m_40_l_10_0.8.txt -f \"RSS=%M TIME=%S+%U\" pce M -l 10 ./synth-graphs/scale_free_m_40.grh 0.8 > log/pce/synth-graphs/l=10/log_pce_scale_free_m_40_l_10_0.8.txt\n",
      "/usr/bin/time -o log/fpce/synth-graphs/l=10/time_fpce_scale_free_m_40_l_10_0.9.txt -f \"RSS=%M TIME=%S+%U\" fpce M -l 10 ./synth-graphs/scale_free_m_40.grh 0.9 > log/fpce/synth-graphs/l=10/log_fpce_scale_free_m_40_l_10_0.9.txt\n",
      "/usr/bin/time -o log/fpce/synth-graphs/l=10/time_fpce_scale_free_m_40_l_10_0.8.txt -f \"RSS=%M TIME=%S+%U\" fpce M -l 10 ./synth-graphs/scale_free_m_40.grh 0.8 > log/fpce/synth-graphs/l=10/log_fpce_scale_free_m_40_l_10_0.8.txt\n",
      "/usr/bin/time -o log/fpce_wo_eb/synth-graphs/l=10/time_fpce_wo_eb_scale_free_m_40_l_10_0.9.txt -f \"RSS=%M TIME=%S+%U\" fpce_wo_eb M -l 10 ./synth-graphs/scale_free_m_40.grh 0.9 > log/fpce_wo_eb/synth-graphs/l=10/log_fpce_wo_eb_scale_free_m_40_l_10_0.9.txt\n",
      "/usr/bin/time -o log/fpce_wo_eb/synth-graphs/l=10/time_fpce_wo_eb_scale_free_m_40_l_10_0.8.txt -f \"RSS=%M TIME=%S+%U\" fpce_wo_eb M -l 10 ./synth-graphs/scale_free_m_40.grh 0.8 > log/fpce_wo_eb/synth-graphs/l=10/log_fpce_wo_eb_scale_free_m_40_l_10_0.8.txt\n"
     ]
    }
   ],
   "source": [
    "# synth command for scale free graph\n",
    "synth_commands = []\n",
    "mvals = [5, 10, 15, 20, 25, 30, 35, 40]\n",
    "graph_names = ['small_world', 'scale_free']\n",
    "density_cutoffs = [0.9, 0.8]\n",
    "for m in mvals:\n",
    "    for graph_name in graph_names:\n",
    "        for code in codes:\n",
    "            for d in density_cutoffs:\n",
    "                for l in lower_bounds:\n",
    "                    cmd = synth_main_command.format(code=code, \n",
    "                                              l=l, \n",
    "                                              graph_name=graph_name, \n",
    "                                              m=m,\n",
    "                                              d=d, \n",
    "                                              sub_folder=sub_folders[0])\n",
    "                    print(cmd)\n",
    "                    synth_commands.append(cmd)"
   ]
  },
  {
   "cell_type": "code",
   "execution_count": 23,
   "metadata": {},
   "outputs": [],
   "source": [
    "with open('command-list-synth.sh', 'w') as f:\n",
    "    for line in synth_commands:\n",
    "        f.write(f\"{line}\\n\")"
   ]
  },
  {
   "cell_type": "markdown",
   "metadata": {},
   "source": [
    "<h3>Generate ODES Commands for Synth Graphs</h3>"
   ]
  },
  {
   "cell_type": "code",
   "execution_count": 38,
   "metadata": {},
   "outputs": [],
   "source": [
    "codes = ['odes']  #'pce',\n",
    "\n",
    "\n",
    "graph_names = ['scale_free_graph', 'small_world_graph' ] \n",
    "n = 100000\n",
    "\n",
    "density_cutoffs = [0.9, 0.8]\n",
    "lower_bounds = [10] #was [20,10]\n",
    "sub_folders = ['synth-graphs', 'real-graphs']"
   ]
  },
  {
   "cell_type": "code",
   "execution_count": 39,
   "metadata": {},
   "outputs": [],
   "source": [
    "# make folders\n",
    "root = '.'\n",
    "\n",
    "for folder in ['log', 'output']:\n",
    "    for sub_folder in sub_folders:\n",
    "        for code in codes:\n",
    "            for l in lower_bounds:\n",
    "                path = os.path.join(root, folder, code, sub_folder, 'l='+str(l))\n",
    "                try:\n",
    "                    os.makedirs(path)\n",
    "                except OSError:\n",
    "                    pass\n"
   ]
  },
  {
   "cell_type": "code",
   "execution_count": 40,
   "metadata": {},
   "outputs": [],
   "source": [
    "synth_main_command = '/usr/bin/time -o log/{code}/{sub_folder}/l={l}/time_{code}_{graph_name}_m_{m}_l_{l}_{d}.txt -f \"RSS=%M TIME=%S+%U\" denseSG ./{sub_folder}/odes_{graph_name}_m_{m}.txt {d} {l} mx > log/{code}/{sub_folder}/l={l}/log_{code}_{graph_name}_m_{m}_l_{l}_{d}.txt'"
   ]
  },
  {
   "cell_type": "code",
   "execution_count": 41,
   "metadata": {},
   "outputs": [
    {
     "name": "stdout",
     "output_type": "stream",
     "text": [
      "/usr/bin/time -o log/odes/synth-graphs/l=10/time_odes_scale_free_graph_m_5_l_10_0.9.txt -f \"RSS=%M TIME=%S+%U\" denseSG ./synth-graphs/odes_scale_free_graph_m_5.txt 0.9 10 mx > log/odes/synth-graphs/l=10/log_odes_scale_free_graph_m_5_l_10_0.9.txt\n",
      "/usr/bin/time -o log/odes/synth-graphs/l=10/time_odes_scale_free_graph_m_5_l_10_0.8.txt -f \"RSS=%M TIME=%S+%U\" denseSG ./synth-graphs/odes_scale_free_graph_m_5.txt 0.8 10 mx > log/odes/synth-graphs/l=10/log_odes_scale_free_graph_m_5_l_10_0.8.txt\n",
      "/usr/bin/time -o log/odes/synth-graphs/l=10/time_odes_small_world_graph_m_5_l_10_0.9.txt -f \"RSS=%M TIME=%S+%U\" denseSG ./synth-graphs/odes_small_world_graph_m_5.txt 0.9 10 mx > log/odes/synth-graphs/l=10/log_odes_small_world_graph_m_5_l_10_0.9.txt\n",
      "/usr/bin/time -o log/odes/synth-graphs/l=10/time_odes_small_world_graph_m_5_l_10_0.8.txt -f \"RSS=%M TIME=%S+%U\" denseSG ./synth-graphs/odes_small_world_graph_m_5.txt 0.8 10 mx > log/odes/synth-graphs/l=10/log_odes_small_world_graph_m_5_l_10_0.8.txt\n",
      "/usr/bin/time -o log/odes/synth-graphs/l=10/time_odes_scale_free_graph_m_10_l_10_0.9.txt -f \"RSS=%M TIME=%S+%U\" denseSG ./synth-graphs/odes_scale_free_graph_m_10.txt 0.9 10 mx > log/odes/synth-graphs/l=10/log_odes_scale_free_graph_m_10_l_10_0.9.txt\n",
      "/usr/bin/time -o log/odes/synth-graphs/l=10/time_odes_scale_free_graph_m_10_l_10_0.8.txt -f \"RSS=%M TIME=%S+%U\" denseSG ./synth-graphs/odes_scale_free_graph_m_10.txt 0.8 10 mx > log/odes/synth-graphs/l=10/log_odes_scale_free_graph_m_10_l_10_0.8.txt\n",
      "/usr/bin/time -o log/odes/synth-graphs/l=10/time_odes_small_world_graph_m_10_l_10_0.9.txt -f \"RSS=%M TIME=%S+%U\" denseSG ./synth-graphs/odes_small_world_graph_m_10.txt 0.9 10 mx > log/odes/synth-graphs/l=10/log_odes_small_world_graph_m_10_l_10_0.9.txt\n",
      "/usr/bin/time -o log/odes/synth-graphs/l=10/time_odes_small_world_graph_m_10_l_10_0.8.txt -f \"RSS=%M TIME=%S+%U\" denseSG ./synth-graphs/odes_small_world_graph_m_10.txt 0.8 10 mx > log/odes/synth-graphs/l=10/log_odes_small_world_graph_m_10_l_10_0.8.txt\n",
      "/usr/bin/time -o log/odes/synth-graphs/l=10/time_odes_scale_free_graph_m_15_l_10_0.9.txt -f \"RSS=%M TIME=%S+%U\" denseSG ./synth-graphs/odes_scale_free_graph_m_15.txt 0.9 10 mx > log/odes/synth-graphs/l=10/log_odes_scale_free_graph_m_15_l_10_0.9.txt\n",
      "/usr/bin/time -o log/odes/synth-graphs/l=10/time_odes_scale_free_graph_m_15_l_10_0.8.txt -f \"RSS=%M TIME=%S+%U\" denseSG ./synth-graphs/odes_scale_free_graph_m_15.txt 0.8 10 mx > log/odes/synth-graphs/l=10/log_odes_scale_free_graph_m_15_l_10_0.8.txt\n",
      "/usr/bin/time -o log/odes/synth-graphs/l=10/time_odes_small_world_graph_m_15_l_10_0.9.txt -f \"RSS=%M TIME=%S+%U\" denseSG ./synth-graphs/odes_small_world_graph_m_15.txt 0.9 10 mx > log/odes/synth-graphs/l=10/log_odes_small_world_graph_m_15_l_10_0.9.txt\n",
      "/usr/bin/time -o log/odes/synth-graphs/l=10/time_odes_small_world_graph_m_15_l_10_0.8.txt -f \"RSS=%M TIME=%S+%U\" denseSG ./synth-graphs/odes_small_world_graph_m_15.txt 0.8 10 mx > log/odes/synth-graphs/l=10/log_odes_small_world_graph_m_15_l_10_0.8.txt\n",
      "/usr/bin/time -o log/odes/synth-graphs/l=10/time_odes_scale_free_graph_m_20_l_10_0.9.txt -f \"RSS=%M TIME=%S+%U\" denseSG ./synth-graphs/odes_scale_free_graph_m_20.txt 0.9 10 mx > log/odes/synth-graphs/l=10/log_odes_scale_free_graph_m_20_l_10_0.9.txt\n",
      "/usr/bin/time -o log/odes/synth-graphs/l=10/time_odes_scale_free_graph_m_20_l_10_0.8.txt -f \"RSS=%M TIME=%S+%U\" denseSG ./synth-graphs/odes_scale_free_graph_m_20.txt 0.8 10 mx > log/odes/synth-graphs/l=10/log_odes_scale_free_graph_m_20_l_10_0.8.txt\n",
      "/usr/bin/time -o log/odes/synth-graphs/l=10/time_odes_small_world_graph_m_20_l_10_0.9.txt -f \"RSS=%M TIME=%S+%U\" denseSG ./synth-graphs/odes_small_world_graph_m_20.txt 0.9 10 mx > log/odes/synth-graphs/l=10/log_odes_small_world_graph_m_20_l_10_0.9.txt\n",
      "/usr/bin/time -o log/odes/synth-graphs/l=10/time_odes_small_world_graph_m_20_l_10_0.8.txt -f \"RSS=%M TIME=%S+%U\" denseSG ./synth-graphs/odes_small_world_graph_m_20.txt 0.8 10 mx > log/odes/synth-graphs/l=10/log_odes_small_world_graph_m_20_l_10_0.8.txt\n",
      "/usr/bin/time -o log/odes/synth-graphs/l=10/time_odes_scale_free_graph_m_25_l_10_0.9.txt -f \"RSS=%M TIME=%S+%U\" denseSG ./synth-graphs/odes_scale_free_graph_m_25.txt 0.9 10 mx > log/odes/synth-graphs/l=10/log_odes_scale_free_graph_m_25_l_10_0.9.txt\n",
      "/usr/bin/time -o log/odes/synth-graphs/l=10/time_odes_scale_free_graph_m_25_l_10_0.8.txt -f \"RSS=%M TIME=%S+%U\" denseSG ./synth-graphs/odes_scale_free_graph_m_25.txt 0.8 10 mx > log/odes/synth-graphs/l=10/log_odes_scale_free_graph_m_25_l_10_0.8.txt\n",
      "/usr/bin/time -o log/odes/synth-graphs/l=10/time_odes_small_world_graph_m_25_l_10_0.9.txt -f \"RSS=%M TIME=%S+%U\" denseSG ./synth-graphs/odes_small_world_graph_m_25.txt 0.9 10 mx > log/odes/synth-graphs/l=10/log_odes_small_world_graph_m_25_l_10_0.9.txt\n",
      "/usr/bin/time -o log/odes/synth-graphs/l=10/time_odes_small_world_graph_m_25_l_10_0.8.txt -f \"RSS=%M TIME=%S+%U\" denseSG ./synth-graphs/odes_small_world_graph_m_25.txt 0.8 10 mx > log/odes/synth-graphs/l=10/log_odes_small_world_graph_m_25_l_10_0.8.txt\n",
      "/usr/bin/time -o log/odes/synth-graphs/l=10/time_odes_scale_free_graph_m_30_l_10_0.9.txt -f \"RSS=%M TIME=%S+%U\" denseSG ./synth-graphs/odes_scale_free_graph_m_30.txt 0.9 10 mx > log/odes/synth-graphs/l=10/log_odes_scale_free_graph_m_30_l_10_0.9.txt\n",
      "/usr/bin/time -o log/odes/synth-graphs/l=10/time_odes_scale_free_graph_m_30_l_10_0.8.txt -f \"RSS=%M TIME=%S+%U\" denseSG ./synth-graphs/odes_scale_free_graph_m_30.txt 0.8 10 mx > log/odes/synth-graphs/l=10/log_odes_scale_free_graph_m_30_l_10_0.8.txt\n",
      "/usr/bin/time -o log/odes/synth-graphs/l=10/time_odes_small_world_graph_m_30_l_10_0.9.txt -f \"RSS=%M TIME=%S+%U\" denseSG ./synth-graphs/odes_small_world_graph_m_30.txt 0.9 10 mx > log/odes/synth-graphs/l=10/log_odes_small_world_graph_m_30_l_10_0.9.txt\n",
      "/usr/bin/time -o log/odes/synth-graphs/l=10/time_odes_small_world_graph_m_30_l_10_0.8.txt -f \"RSS=%M TIME=%S+%U\" denseSG ./synth-graphs/odes_small_world_graph_m_30.txt 0.8 10 mx > log/odes/synth-graphs/l=10/log_odes_small_world_graph_m_30_l_10_0.8.txt\n",
      "/usr/bin/time -o log/odes/synth-graphs/l=10/time_odes_scale_free_graph_m_35_l_10_0.9.txt -f \"RSS=%M TIME=%S+%U\" denseSG ./synth-graphs/odes_scale_free_graph_m_35.txt 0.9 10 mx > log/odes/synth-graphs/l=10/log_odes_scale_free_graph_m_35_l_10_0.9.txt\n",
      "/usr/bin/time -o log/odes/synth-graphs/l=10/time_odes_scale_free_graph_m_35_l_10_0.8.txt -f \"RSS=%M TIME=%S+%U\" denseSG ./synth-graphs/odes_scale_free_graph_m_35.txt 0.8 10 mx > log/odes/synth-graphs/l=10/log_odes_scale_free_graph_m_35_l_10_0.8.txt\n",
      "/usr/bin/time -o log/odes/synth-graphs/l=10/time_odes_small_world_graph_m_35_l_10_0.9.txt -f \"RSS=%M TIME=%S+%U\" denseSG ./synth-graphs/odes_small_world_graph_m_35.txt 0.9 10 mx > log/odes/synth-graphs/l=10/log_odes_small_world_graph_m_35_l_10_0.9.txt\n",
      "/usr/bin/time -o log/odes/synth-graphs/l=10/time_odes_small_world_graph_m_35_l_10_0.8.txt -f \"RSS=%M TIME=%S+%U\" denseSG ./synth-graphs/odes_small_world_graph_m_35.txt 0.8 10 mx > log/odes/synth-graphs/l=10/log_odes_small_world_graph_m_35_l_10_0.8.txt\n",
      "/usr/bin/time -o log/odes/synth-graphs/l=10/time_odes_scale_free_graph_m_40_l_10_0.9.txt -f \"RSS=%M TIME=%S+%U\" denseSG ./synth-graphs/odes_scale_free_graph_m_40.txt 0.9 10 mx > log/odes/synth-graphs/l=10/log_odes_scale_free_graph_m_40_l_10_0.9.txt\n",
      "/usr/bin/time -o log/odes/synth-graphs/l=10/time_odes_scale_free_graph_m_40_l_10_0.8.txt -f \"RSS=%M TIME=%S+%U\" denseSG ./synth-graphs/odes_scale_free_graph_m_40.txt 0.8 10 mx > log/odes/synth-graphs/l=10/log_odes_scale_free_graph_m_40_l_10_0.8.txt\n",
      "/usr/bin/time -o log/odes/synth-graphs/l=10/time_odes_small_world_graph_m_40_l_10_0.9.txt -f \"RSS=%M TIME=%S+%U\" denseSG ./synth-graphs/odes_small_world_graph_m_40.txt 0.9 10 mx > log/odes/synth-graphs/l=10/log_odes_small_world_graph_m_40_l_10_0.9.txt\n",
      "/usr/bin/time -o log/odes/synth-graphs/l=10/time_odes_small_world_graph_m_40_l_10_0.8.txt -f \"RSS=%M TIME=%S+%U\" denseSG ./synth-graphs/odes_small_world_graph_m_40.txt 0.8 10 mx > log/odes/synth-graphs/l=10/log_odes_small_world_graph_m_40_l_10_0.8.txt\n"
     ]
    }
   ],
   "source": [
    "# synth command for scale free graph\n",
    "synth_commands = []\n",
    "mvals = [5, 10,15, 20,25, 30, 35, 40] \n",
    "for m in mvals:\n",
    "    for graph_name in graph_names:\n",
    "        for code in codes:\n",
    "            for d in density_cutoffs:\n",
    "                for l in lower_bounds:\n",
    "                    cmd = synth_main_command.format(code=code, \n",
    "                                              l=l, \n",
    "                                              graph_name=graph_name, \n",
    "                                              m=m,\n",
    "                                              d=d, \n",
    "                                              sub_folder=sub_folders[0])\n",
    "                    print(cmd)\n",
    "                    synth_commands.append(cmd)"
   ]
  },
  {
   "cell_type": "code",
   "execution_count": 42,
   "metadata": {},
   "outputs": [],
   "source": [
    "with open('command-list-synth-odes.sh', 'w') as f:\n",
    "    for line in synth_commands:\n",
    "        f.write(f\"{line}\\n\")"
   ]
  },
  {
   "cell_type": "markdown",
   "metadata": {},
   "source": [
    "<h3>Generate ODES Commands for Real Graphs</h3>"
   ]
  },
  {
   "cell_type": "code",
   "execution_count": 43,
   "metadata": {},
   "outputs": [],
   "source": [
    "real_main_command = '/usr/bin/time -o log/{code}/{sub_folder}/l={l}/time_{code}_{graph_name}_l_{l}_{d}.txt -f \"RSS=%M TIME=%S+%U\" denseSG ./{sub_folder}/odes_{graph_name}.grh {d} {l} mx > log/{code}/{sub_folder}/l={l}/log_{code}_{graph_name}_l_{l}_{d}.txt'"
   ]
  },
  {
   "cell_type": "code",
   "execution_count": 44,
   "metadata": {},
   "outputs": [
    {
     "name": "stdout",
     "output_type": "stream",
     "text": [
      "/usr/bin/time -o log/odes/real-graphs/l=10/time_odes_dictionary28_l_10_0.9.txt -f \"RSS=%M TIME=%S+%U\" denseSG ./real-graphs/odes_dictionary28.grh 0.9 10 mx > log/odes/real-graphs/l=10/log_odes_dictionary28_l_10_0.9.txt\n",
      "/usr/bin/time -o log/odes/real-graphs/l=10/time_odes_dictionary28_l_10_0.8.txt -f \"RSS=%M TIME=%S+%U\" denseSG ./real-graphs/odes_dictionary28.grh 0.8 10 mx > log/odes/real-graphs/l=10/log_odes_dictionary28_l_10_0.8.txt\n",
      "/usr/bin/time -o log/odes/real-graphs/l=10/time_odes_delaunay_n23_l_10_0.9.txt -f \"RSS=%M TIME=%S+%U\" denseSG ./real-graphs/odes_delaunay_n23.grh 0.9 10 mx > log/odes/real-graphs/l=10/log_odes_delaunay_n23_l_10_0.9.txt\n",
      "/usr/bin/time -o log/odes/real-graphs/l=10/time_odes_delaunay_n23_l_10_0.8.txt -f \"RSS=%M TIME=%S+%U\" denseSG ./real-graphs/odes_delaunay_n23.grh 0.8 10 mx > log/odes/real-graphs/l=10/log_odes_delaunay_n23_l_10_0.8.txt\n",
      "/usr/bin/time -o log/odes/real-graphs/l=10/time_odes_com-amazon_l_10_0.9.txt -f \"RSS=%M TIME=%S+%U\" denseSG ./real-graphs/odes_com-amazon.grh 0.9 10 mx > log/odes/real-graphs/l=10/log_odes_com-amazon_l_10_0.9.txt\n",
      "/usr/bin/time -o log/odes/real-graphs/l=10/time_odes_com-amazon_l_10_0.8.txt -f \"RSS=%M TIME=%S+%U\" denseSG ./real-graphs/odes_com-amazon.grh 0.8 10 mx > log/odes/real-graphs/l=10/log_odes_com-amazon_l_10_0.8.txt\n",
      "/usr/bin/time -o log/odes/real-graphs/l=10/time_odes_bio-grid-human_l_10_0.9.txt -f \"RSS=%M TIME=%S+%U\" denseSG ./real-graphs/odes_bio-grid-human.grh 0.9 10 mx > log/odes/real-graphs/l=10/log_odes_bio-grid-human_l_10_0.9.txt\n",
      "/usr/bin/time -o log/odes/real-graphs/l=10/time_odes_bio-grid-human_l_10_0.8.txt -f \"RSS=%M TIME=%S+%U\" denseSG ./real-graphs/odes_bio-grid-human.grh 0.8 10 mx > log/odes/real-graphs/l=10/log_odes_bio-grid-human_l_10_0.8.txt\n",
      "/usr/bin/time -o log/odes/real-graphs/l=10/time_odes_inf-europe_osm_l_10_0.9.txt -f \"RSS=%M TIME=%S+%U\" denseSG ./real-graphs/odes_inf-europe_osm.grh 0.9 10 mx > log/odes/real-graphs/l=10/log_odes_inf-europe_osm_l_10_0.9.txt\n",
      "/usr/bin/time -o log/odes/real-graphs/l=10/time_odes_inf-europe_osm_l_10_0.8.txt -f \"RSS=%M TIME=%S+%U\" denseSG ./real-graphs/odes_inf-europe_osm.grh 0.8 10 mx > log/odes/real-graphs/l=10/log_odes_inf-europe_osm_l_10_0.8.txt\n",
      "/usr/bin/time -o log/odes/real-graphs/l=10/time_odes_socfb-konect_l_10_0.9.txt -f \"RSS=%M TIME=%S+%U\" denseSG ./real-graphs/odes_socfb-konect.grh 0.9 10 mx > log/odes/real-graphs/l=10/log_odes_socfb-konect_l_10_0.9.txt\n",
      "/usr/bin/time -o log/odes/real-graphs/l=10/time_odes_socfb-konect_l_10_0.8.txt -f \"RSS=%M TIME=%S+%U\" denseSG ./real-graphs/odes_socfb-konect.grh 0.8 10 mx > log/odes/real-graphs/l=10/log_odes_socfb-konect_l_10_0.8.txt\n",
      "/usr/bin/time -o log/odes/real-graphs/l=10/time_odes_PROTEINS-full_l_10_0.9.txt -f \"RSS=%M TIME=%S+%U\" denseSG ./real-graphs/odes_PROTEINS-full.grh 0.9 10 mx > log/odes/real-graphs/l=10/log_odes_PROTEINS-full_l_10_0.9.txt\n",
      "/usr/bin/time -o log/odes/real-graphs/l=10/time_odes_PROTEINS-full_l_10_0.8.txt -f \"RSS=%M TIME=%S+%U\" denseSG ./real-graphs/odes_PROTEINS-full.grh 0.8 10 mx > log/odes/real-graphs/l=10/log_odes_PROTEINS-full_l_10_0.8.txt\n",
      "/usr/bin/time -o log/odes/real-graphs/l=10/time_odes_citationCiteseer_l_10_0.9.txt -f \"RSS=%M TIME=%S+%U\" denseSG ./real-graphs/odes_citationCiteseer.grh 0.9 10 mx > log/odes/real-graphs/l=10/log_odes_citationCiteseer_l_10_0.9.txt\n",
      "/usr/bin/time -o log/odes/real-graphs/l=10/time_odes_citationCiteseer_l_10_0.8.txt -f \"RSS=%M TIME=%S+%U\" denseSG ./real-graphs/odes_citationCiteseer.grh 0.8 10 mx > log/odes/real-graphs/l=10/log_odes_citationCiteseer_l_10_0.8.txt\n",
      "/usr/bin/time -o log/odes/real-graphs/l=10/time_odes_ca-MathSciNet_l_10_0.9.txt -f \"RSS=%M TIME=%S+%U\" denseSG ./real-graphs/odes_ca-MathSciNet.grh 0.9 10 mx > log/odes/real-graphs/l=10/log_odes_ca-MathSciNet_l_10_0.9.txt\n",
      "/usr/bin/time -o log/odes/real-graphs/l=10/time_odes_ca-MathSciNet_l_10_0.8.txt -f \"RSS=%M TIME=%S+%U\" denseSG ./real-graphs/odes_ca-MathSciNet.grh 0.8 10 mx > log/odes/real-graphs/l=10/log_odes_ca-MathSciNet_l_10_0.8.txt\n",
      "/usr/bin/time -o log/odes/real-graphs/l=10/time_odes_patents_main_l_10_0.9.txt -f \"RSS=%M TIME=%S+%U\" denseSG ./real-graphs/odes_patents_main.grh 0.9 10 mx > log/odes/real-graphs/l=10/log_odes_patents_main_l_10_0.9.txt\n",
      "/usr/bin/time -o log/odes/real-graphs/l=10/time_odes_patents_main_l_10_0.8.txt -f \"RSS=%M TIME=%S+%U\" denseSG ./real-graphs/odes_patents_main.grh 0.8 10 mx > log/odes/real-graphs/l=10/log_odes_patents_main_l_10_0.8.txt\n",
      "/usr/bin/time -o log/odes/real-graphs/l=10/time_odes_soc-gplus_l_10_0.9.txt -f \"RSS=%M TIME=%S+%U\" denseSG ./real-graphs/odes_soc-gplus.grh 0.9 10 mx > log/odes/real-graphs/l=10/log_odes_soc-gplus_l_10_0.9.txt\n",
      "/usr/bin/time -o log/odes/real-graphs/l=10/time_odes_soc-gplus_l_10_0.8.txt -f \"RSS=%M TIME=%S+%U\" denseSG ./real-graphs/odes_soc-gplus.grh 0.8 10 mx > log/odes/real-graphs/l=10/log_odes_soc-gplus_l_10_0.8.txt\n",
      "/usr/bin/time -o log/odes/real-graphs/l=10/time_odes_TWITTER-Real-Graph-Partial_l_10_0.9.txt -f \"RSS=%M TIME=%S+%U\" denseSG ./real-graphs/odes_TWITTER-Real-Graph-Partial.grh 0.9 10 mx > log/odes/real-graphs/l=10/log_odes_TWITTER-Real-Graph-Partial_l_10_0.9.txt\n",
      "/usr/bin/time -o log/odes/real-graphs/l=10/time_odes_TWITTER-Real-Graph-Partial_l_10_0.8.txt -f \"RSS=%M TIME=%S+%U\" denseSG ./real-graphs/odes_TWITTER-Real-Graph-Partial.grh 0.8 10 mx > log/odes/real-graphs/l=10/log_odes_TWITTER-Real-Graph-Partial_l_10_0.8.txt\n",
      "/usr/bin/time -o log/odes/real-graphs/l=10/time_odes_web-webbase-2001_l_10_0.9.txt -f \"RSS=%M TIME=%S+%U\" denseSG ./real-graphs/odes_web-webbase-2001.grh 0.9 10 mx > log/odes/real-graphs/l=10/log_odes_web-webbase-2001_l_10_0.9.txt\n",
      "/usr/bin/time -o log/odes/real-graphs/l=10/time_odes_web-webbase-2001_l_10_0.8.txt -f \"RSS=%M TIME=%S+%U\" denseSG ./real-graphs/odes_web-webbase-2001.grh 0.8 10 mx > log/odes/real-graphs/l=10/log_odes_web-webbase-2001_l_10_0.8.txt\n",
      "/usr/bin/time -o log/odes/real-graphs/l=10/time_odes_tech-internet-as_l_10_0.9.txt -f \"RSS=%M TIME=%S+%U\" denseSG ./real-graphs/odes_tech-internet-as.grh 0.9 10 mx > log/odes/real-graphs/l=10/log_odes_tech-internet-as_l_10_0.9.txt\n",
      "/usr/bin/time -o log/odes/real-graphs/l=10/time_odes_tech-internet-as_l_10_0.8.txt -f \"RSS=%M TIME=%S+%U\" denseSG ./real-graphs/odes_tech-internet-as.grh 0.8 10 mx > log/odes/real-graphs/l=10/log_odes_tech-internet-as_l_10_0.8.txt\n",
      "/usr/bin/time -o log/odes/real-graphs/l=10/time_odes_soc-douban_l_10_0.9.txt -f \"RSS=%M TIME=%S+%U\" denseSG ./real-graphs/odes_soc-douban.grh 0.9 10 mx > log/odes/real-graphs/l=10/log_odes_soc-douban_l_10_0.9.txt\n",
      "/usr/bin/time -o log/odes/real-graphs/l=10/time_odes_soc-douban_l_10_0.8.txt -f \"RSS=%M TIME=%S+%U\" denseSG ./real-graphs/odes_soc-douban.grh 0.8 10 mx > log/odes/real-graphs/l=10/log_odes_soc-douban_l_10_0.8.txt\n",
      "/usr/bin/time -o log/odes/real-graphs/l=10/time_odes_scc_retweet-crawl_l_10_0.9.txt -f \"RSS=%M TIME=%S+%U\" denseSG ./real-graphs/odes_scc_retweet-crawl.grh 0.9 10 mx > log/odes/real-graphs/l=10/log_odes_scc_retweet-crawl_l_10_0.9.txt\n",
      "/usr/bin/time -o log/odes/real-graphs/l=10/time_odes_scc_retweet-crawl_l_10_0.8.txt -f \"RSS=%M TIME=%S+%U\" denseSG ./real-graphs/odes_scc_retweet-crawl.grh 0.8 10 mx > log/odes/real-graphs/l=10/log_odes_scc_retweet-crawl_l_10_0.8.txt\n"
     ]
    }
   ],
   "source": [
    "real_graph_names = [\n",
    "'dictionary28',\n",
    "'delaunay_n23', 'com-amazon',  'bio-grid-human',  \n",
    "'inf-europe_osm',\n",
    "'socfb-konect', \n",
    "'PROTEINS-full', 'citationCiteseer',\n",
    "'ca-MathSciNet', \n",
    "'patents_main', 'soc-gplus',\n",
    "'TWITTER-Real-Graph-Partial', \n",
    "'web-webbase-2001', 'tech-internet-as',\n",
    "'soc-douban', 'scc_retweet-crawl'\n",
    "]\n",
    "\n",
    "\n",
    "codes = ['odes']  #'pce',\n",
    "\n",
    "\n",
    "# real command\n",
    "density_cutoffs = [0.9, 0.8]\n",
    "real_commands = []\n",
    "\n",
    "for graph_name in real_graph_names:\n",
    "    for code in codes:\n",
    "        for d in density_cutoffs:\n",
    "            for l in lower_bounds:\n",
    "                graph_name = graph_name.split('.')[0]\n",
    "                cmd = real_main_command.format(code=code, \n",
    "                                          l=l, \n",
    "                                          graph_name=graph_name, \n",
    "                                          d=d, \n",
    "                                          sub_folder=sub_folders[1])\n",
    "                print(cmd)\n",
    "                real_commands.append(cmd)"
   ]
  },
  {
   "cell_type": "code",
   "execution_count": 45,
   "metadata": {},
   "outputs": [],
   "source": [
    "with open('command-list-real-odes.sh', 'w') as f:\n",
    "    for line in real_commands:\n",
    "        f.write(f\"{line}\\n\")"
   ]
  },
  {
   "cell_type": "markdown",
   "metadata": {},
   "source": [
    "<h3>Generate Commands for Real Graphs</h3>"
   ]
  },
  {
   "cell_type": "code",
   "execution_count": 46,
   "metadata": {},
   "outputs": [],
   "source": [
    "real_main_command = '/usr/bin/time -o log/{code}/{sub_folder}/l={l}/time_{code}_{graph_name}_l_{l}_{d}.txt -f \"RSS=%M TIME=%S+%U\" {code} M -l {l} ./{sub_folder}/{graph_name}.grh {d} > log/{code}/{sub_folder}/l={l}/log_{code}_{graph_name}_l_{l}_{d}.txt'"
   ]
  },
  {
   "cell_type": "code",
   "execution_count": 47,
   "metadata": {},
   "outputs": [
    {
     "name": "stdout",
     "output_type": "stream",
     "text": [
      "/usr/bin/time -o log/fpce/real-graphs/l=10/time_fpce_dictionary28_l_10_0.9.txt -f \"RSS=%M TIME=%S+%U\" fpce M -l 10 ./real-graphs/dictionary28.grh 0.9 > log/fpce/real-graphs/l=10/log_fpce_dictionary28_l_10_0.9.txt\n",
      "/usr/bin/time -o log/pce/real-graphs/l=10/time_pce_dictionary28_l_10_0.9.txt -f \"RSS=%M TIME=%S+%U\" pce M -l 10 ./real-graphs/dictionary28.grh 0.9 > log/pce/real-graphs/l=10/log_pce_dictionary28_l_10_0.9.txt\n",
      "/usr/bin/time -o log/fpce_wo_eb/real-graphs/l=10/time_fpce_wo_eb_dictionary28_l_10_0.9.txt -f \"RSS=%M TIME=%S+%U\" fpce_wo_eb M -l 10 ./real-graphs/dictionary28.grh 0.9 > log/fpce_wo_eb/real-graphs/l=10/log_fpce_wo_eb_dictionary28_l_10_0.9.txt\n",
      "/usr/bin/time -o log/fpce/real-graphs/l=10/time_fpce_delaunay_n23_l_10_0.9.txt -f \"RSS=%M TIME=%S+%U\" fpce M -l 10 ./real-graphs/delaunay_n23.grh 0.9 > log/fpce/real-graphs/l=10/log_fpce_delaunay_n23_l_10_0.9.txt\n",
      "/usr/bin/time -o log/pce/real-graphs/l=10/time_pce_delaunay_n23_l_10_0.9.txt -f \"RSS=%M TIME=%S+%U\" pce M -l 10 ./real-graphs/delaunay_n23.grh 0.9 > log/pce/real-graphs/l=10/log_pce_delaunay_n23_l_10_0.9.txt\n",
      "/usr/bin/time -o log/fpce_wo_eb/real-graphs/l=10/time_fpce_wo_eb_delaunay_n23_l_10_0.9.txt -f \"RSS=%M TIME=%S+%U\" fpce_wo_eb M -l 10 ./real-graphs/delaunay_n23.grh 0.9 > log/fpce_wo_eb/real-graphs/l=10/log_fpce_wo_eb_delaunay_n23_l_10_0.9.txt\n",
      "/usr/bin/time -o log/fpce/real-graphs/l=10/time_fpce_com-amazon_l_10_0.9.txt -f \"RSS=%M TIME=%S+%U\" fpce M -l 10 ./real-graphs/com-amazon.grh 0.9 > log/fpce/real-graphs/l=10/log_fpce_com-amazon_l_10_0.9.txt\n",
      "/usr/bin/time -o log/pce/real-graphs/l=10/time_pce_com-amazon_l_10_0.9.txt -f \"RSS=%M TIME=%S+%U\" pce M -l 10 ./real-graphs/com-amazon.grh 0.9 > log/pce/real-graphs/l=10/log_pce_com-amazon_l_10_0.9.txt\n",
      "/usr/bin/time -o log/fpce_wo_eb/real-graphs/l=10/time_fpce_wo_eb_com-amazon_l_10_0.9.txt -f \"RSS=%M TIME=%S+%U\" fpce_wo_eb M -l 10 ./real-graphs/com-amazon.grh 0.9 > log/fpce_wo_eb/real-graphs/l=10/log_fpce_wo_eb_com-amazon_l_10_0.9.txt\n",
      "/usr/bin/time -o log/fpce/real-graphs/l=10/time_fpce_bio-grid-human_l_10_0.9.txt -f \"RSS=%M TIME=%S+%U\" fpce M -l 10 ./real-graphs/bio-grid-human.grh 0.9 > log/fpce/real-graphs/l=10/log_fpce_bio-grid-human_l_10_0.9.txt\n",
      "/usr/bin/time -o log/pce/real-graphs/l=10/time_pce_bio-grid-human_l_10_0.9.txt -f \"RSS=%M TIME=%S+%U\" pce M -l 10 ./real-graphs/bio-grid-human.grh 0.9 > log/pce/real-graphs/l=10/log_pce_bio-grid-human_l_10_0.9.txt\n",
      "/usr/bin/time -o log/fpce_wo_eb/real-graphs/l=10/time_fpce_wo_eb_bio-grid-human_l_10_0.9.txt -f \"RSS=%M TIME=%S+%U\" fpce_wo_eb M -l 10 ./real-graphs/bio-grid-human.grh 0.9 > log/fpce_wo_eb/real-graphs/l=10/log_fpce_wo_eb_bio-grid-human_l_10_0.9.txt\n",
      "/usr/bin/time -o log/fpce/real-graphs/l=10/time_fpce_inf-europe_osm_l_10_0.9.txt -f \"RSS=%M TIME=%S+%U\" fpce M -l 10 ./real-graphs/inf-europe_osm.grh 0.9 > log/fpce/real-graphs/l=10/log_fpce_inf-europe_osm_l_10_0.9.txt\n",
      "/usr/bin/time -o log/pce/real-graphs/l=10/time_pce_inf-europe_osm_l_10_0.9.txt -f \"RSS=%M TIME=%S+%U\" pce M -l 10 ./real-graphs/inf-europe_osm.grh 0.9 > log/pce/real-graphs/l=10/log_pce_inf-europe_osm_l_10_0.9.txt\n",
      "/usr/bin/time -o log/fpce_wo_eb/real-graphs/l=10/time_fpce_wo_eb_inf-europe_osm_l_10_0.9.txt -f \"RSS=%M TIME=%S+%U\" fpce_wo_eb M -l 10 ./real-graphs/inf-europe_osm.grh 0.9 > log/fpce_wo_eb/real-graphs/l=10/log_fpce_wo_eb_inf-europe_osm_l_10_0.9.txt\n",
      "/usr/bin/time -o log/fpce/real-graphs/l=10/time_fpce_socfb-konect_l_10_0.9.txt -f \"RSS=%M TIME=%S+%U\" fpce M -l 10 ./real-graphs/socfb-konect.grh 0.9 > log/fpce/real-graphs/l=10/log_fpce_socfb-konect_l_10_0.9.txt\n",
      "/usr/bin/time -o log/pce/real-graphs/l=10/time_pce_socfb-konect_l_10_0.9.txt -f \"RSS=%M TIME=%S+%U\" pce M -l 10 ./real-graphs/socfb-konect.grh 0.9 > log/pce/real-graphs/l=10/log_pce_socfb-konect_l_10_0.9.txt\n",
      "/usr/bin/time -o log/fpce_wo_eb/real-graphs/l=10/time_fpce_wo_eb_socfb-konect_l_10_0.9.txt -f \"RSS=%M TIME=%S+%U\" fpce_wo_eb M -l 10 ./real-graphs/socfb-konect.grh 0.9 > log/fpce_wo_eb/real-graphs/l=10/log_fpce_wo_eb_socfb-konect_l_10_0.9.txt\n",
      "/usr/bin/time -o log/fpce/real-graphs/l=10/time_fpce_PROTEINS-full_l_10_0.9.txt -f \"RSS=%M TIME=%S+%U\" fpce M -l 10 ./real-graphs/PROTEINS-full.grh 0.9 > log/fpce/real-graphs/l=10/log_fpce_PROTEINS-full_l_10_0.9.txt\n",
      "/usr/bin/time -o log/pce/real-graphs/l=10/time_pce_PROTEINS-full_l_10_0.9.txt -f \"RSS=%M TIME=%S+%U\" pce M -l 10 ./real-graphs/PROTEINS-full.grh 0.9 > log/pce/real-graphs/l=10/log_pce_PROTEINS-full_l_10_0.9.txt\n",
      "/usr/bin/time -o log/fpce_wo_eb/real-graphs/l=10/time_fpce_wo_eb_PROTEINS-full_l_10_0.9.txt -f \"RSS=%M TIME=%S+%U\" fpce_wo_eb M -l 10 ./real-graphs/PROTEINS-full.grh 0.9 > log/fpce_wo_eb/real-graphs/l=10/log_fpce_wo_eb_PROTEINS-full_l_10_0.9.txt\n",
      "/usr/bin/time -o log/fpce/real-graphs/l=10/time_fpce_citationCiteseer_l_10_0.9.txt -f \"RSS=%M TIME=%S+%U\" fpce M -l 10 ./real-graphs/citationCiteseer.grh 0.9 > log/fpce/real-graphs/l=10/log_fpce_citationCiteseer_l_10_0.9.txt\n",
      "/usr/bin/time -o log/pce/real-graphs/l=10/time_pce_citationCiteseer_l_10_0.9.txt -f \"RSS=%M TIME=%S+%U\" pce M -l 10 ./real-graphs/citationCiteseer.grh 0.9 > log/pce/real-graphs/l=10/log_pce_citationCiteseer_l_10_0.9.txt\n",
      "/usr/bin/time -o log/fpce_wo_eb/real-graphs/l=10/time_fpce_wo_eb_citationCiteseer_l_10_0.9.txt -f \"RSS=%M TIME=%S+%U\" fpce_wo_eb M -l 10 ./real-graphs/citationCiteseer.grh 0.9 > log/fpce_wo_eb/real-graphs/l=10/log_fpce_wo_eb_citationCiteseer_l_10_0.9.txt\n",
      "/usr/bin/time -o log/fpce/real-graphs/l=10/time_fpce_ca-MathSciNet_l_10_0.9.txt -f \"RSS=%M TIME=%S+%U\" fpce M -l 10 ./real-graphs/ca-MathSciNet.grh 0.9 > log/fpce/real-graphs/l=10/log_fpce_ca-MathSciNet_l_10_0.9.txt\n",
      "/usr/bin/time -o log/pce/real-graphs/l=10/time_pce_ca-MathSciNet_l_10_0.9.txt -f \"RSS=%M TIME=%S+%U\" pce M -l 10 ./real-graphs/ca-MathSciNet.grh 0.9 > log/pce/real-graphs/l=10/log_pce_ca-MathSciNet_l_10_0.9.txt\n",
      "/usr/bin/time -o log/fpce_wo_eb/real-graphs/l=10/time_fpce_wo_eb_ca-MathSciNet_l_10_0.9.txt -f \"RSS=%M TIME=%S+%U\" fpce_wo_eb M -l 10 ./real-graphs/ca-MathSciNet.grh 0.9 > log/fpce_wo_eb/real-graphs/l=10/log_fpce_wo_eb_ca-MathSciNet_l_10_0.9.txt\n",
      "/usr/bin/time -o log/fpce/real-graphs/l=10/time_fpce_soc-gplus_l_10_0.9.txt -f \"RSS=%M TIME=%S+%U\" fpce M -l 10 ./real-graphs/soc-gplus.grh 0.9 > log/fpce/real-graphs/l=10/log_fpce_soc-gplus_l_10_0.9.txt\n",
      "/usr/bin/time -o log/pce/real-graphs/l=10/time_pce_soc-gplus_l_10_0.9.txt -f \"RSS=%M TIME=%S+%U\" pce M -l 10 ./real-graphs/soc-gplus.grh 0.9 > log/pce/real-graphs/l=10/log_pce_soc-gplus_l_10_0.9.txt\n",
      "/usr/bin/time -o log/fpce_wo_eb/real-graphs/l=10/time_fpce_wo_eb_soc-gplus_l_10_0.9.txt -f \"RSS=%M TIME=%S+%U\" fpce_wo_eb M -l 10 ./real-graphs/soc-gplus.grh 0.9 > log/fpce_wo_eb/real-graphs/l=10/log_fpce_wo_eb_soc-gplus_l_10_0.9.txt\n",
      "/usr/bin/time -o log/fpce/real-graphs/l=10/time_fpce_TWITTER-Real-Graph-Partial_l_10_0.9.txt -f \"RSS=%M TIME=%S+%U\" fpce M -l 10 ./real-graphs/TWITTER-Real-Graph-Partial.grh 0.9 > log/fpce/real-graphs/l=10/log_fpce_TWITTER-Real-Graph-Partial_l_10_0.9.txt\n",
      "/usr/bin/time -o log/pce/real-graphs/l=10/time_pce_TWITTER-Real-Graph-Partial_l_10_0.9.txt -f \"RSS=%M TIME=%S+%U\" pce M -l 10 ./real-graphs/TWITTER-Real-Graph-Partial.grh 0.9 > log/pce/real-graphs/l=10/log_pce_TWITTER-Real-Graph-Partial_l_10_0.9.txt\n",
      "/usr/bin/time -o log/fpce_wo_eb/real-graphs/l=10/time_fpce_wo_eb_TWITTER-Real-Graph-Partial_l_10_0.9.txt -f \"RSS=%M TIME=%S+%U\" fpce_wo_eb M -l 10 ./real-graphs/TWITTER-Real-Graph-Partial.grh 0.9 > log/fpce_wo_eb/real-graphs/l=10/log_fpce_wo_eb_TWITTER-Real-Graph-Partial_l_10_0.9.txt\n",
      "/usr/bin/time -o log/fpce/real-graphs/l=10/time_fpce_web-webbase-2001_l_10_0.9.txt -f \"RSS=%M TIME=%S+%U\" fpce M -l 10 ./real-graphs/web-webbase-2001.grh 0.9 > log/fpce/real-graphs/l=10/log_fpce_web-webbase-2001_l_10_0.9.txt\n",
      "/usr/bin/time -o log/pce/real-graphs/l=10/time_pce_web-webbase-2001_l_10_0.9.txt -f \"RSS=%M TIME=%S+%U\" pce M -l 10 ./real-graphs/web-webbase-2001.grh 0.9 > log/pce/real-graphs/l=10/log_pce_web-webbase-2001_l_10_0.9.txt\n",
      "/usr/bin/time -o log/fpce_wo_eb/real-graphs/l=10/time_fpce_wo_eb_web-webbase-2001_l_10_0.9.txt -f \"RSS=%M TIME=%S+%U\" fpce_wo_eb M -l 10 ./real-graphs/web-webbase-2001.grh 0.9 > log/fpce_wo_eb/real-graphs/l=10/log_fpce_wo_eb_web-webbase-2001_l_10_0.9.txt\n",
      "/usr/bin/time -o log/fpce/real-graphs/l=10/time_fpce_tech-internet-as_l_10_0.9.txt -f \"RSS=%M TIME=%S+%U\" fpce M -l 10 ./real-graphs/tech-internet-as.grh 0.9 > log/fpce/real-graphs/l=10/log_fpce_tech-internet-as_l_10_0.9.txt\n",
      "/usr/bin/time -o log/pce/real-graphs/l=10/time_pce_tech-internet-as_l_10_0.9.txt -f \"RSS=%M TIME=%S+%U\" pce M -l 10 ./real-graphs/tech-internet-as.grh 0.9 > log/pce/real-graphs/l=10/log_pce_tech-internet-as_l_10_0.9.txt\n",
      "/usr/bin/time -o log/fpce_wo_eb/real-graphs/l=10/time_fpce_wo_eb_tech-internet-as_l_10_0.9.txt -f \"RSS=%M TIME=%S+%U\" fpce_wo_eb M -l 10 ./real-graphs/tech-internet-as.grh 0.9 > log/fpce_wo_eb/real-graphs/l=10/log_fpce_wo_eb_tech-internet-as_l_10_0.9.txt\n",
      "/usr/bin/time -o log/fpce/real-graphs/l=10/time_fpce_soc-douban_l_10_0.9.txt -f \"RSS=%M TIME=%S+%U\" fpce M -l 10 ./real-graphs/soc-douban.grh 0.9 > log/fpce/real-graphs/l=10/log_fpce_soc-douban_l_10_0.9.txt\n",
      "/usr/bin/time -o log/pce/real-graphs/l=10/time_pce_soc-douban_l_10_0.9.txt -f \"RSS=%M TIME=%S+%U\" pce M -l 10 ./real-graphs/soc-douban.grh 0.9 > log/pce/real-graphs/l=10/log_pce_soc-douban_l_10_0.9.txt\n",
      "/usr/bin/time -o log/fpce_wo_eb/real-graphs/l=10/time_fpce_wo_eb_soc-douban_l_10_0.9.txt -f \"RSS=%M TIME=%S+%U\" fpce_wo_eb M -l 10 ./real-graphs/soc-douban.grh 0.9 > log/fpce_wo_eb/real-graphs/l=10/log_fpce_wo_eb_soc-douban_l_10_0.9.txt\n",
      "/usr/bin/time -o log/fpce/real-graphs/l=10/time_fpce_scc_retweet-crawl_l_10_0.9.txt -f \"RSS=%M TIME=%S+%U\" fpce M -l 10 ./real-graphs/scc_retweet-crawl.grh 0.9 > log/fpce/real-graphs/l=10/log_fpce_scc_retweet-crawl_l_10_0.9.txt\n",
      "/usr/bin/time -o log/pce/real-graphs/l=10/time_pce_scc_retweet-crawl_l_10_0.9.txt -f \"RSS=%M TIME=%S+%U\" pce M -l 10 ./real-graphs/scc_retweet-crawl.grh 0.9 > log/pce/real-graphs/l=10/log_pce_scc_retweet-crawl_l_10_0.9.txt\n",
      "/usr/bin/time -o log/fpce_wo_eb/real-graphs/l=10/time_fpce_wo_eb_scc_retweet-crawl_l_10_0.9.txt -f \"RSS=%M TIME=%S+%U\" fpce_wo_eb M -l 10 ./real-graphs/scc_retweet-crawl.grh 0.9 > log/fpce_wo_eb/real-graphs/l=10/log_fpce_wo_eb_scc_retweet-crawl_l_10_0.9.txt\n"
     ]
    }
   ],
   "source": [
    "codes = ['fpce', 'pce', 'fpce_wo_eb']  #'pce',\n",
    "real_graph_names = [\n",
    "'dictionary28','delaunay_n23', 'com-amazon',  'bio-grid-human',  'inf-europe_osm',\n",
    "'socfb-konect', 'PROTEINS-full', 'citationCiteseer','ca-MathSciNet', \n",
    "'soc-gplus', 'TWITTER-Real-Graph-Partial', \n",
    "'web-webbase-2001', 'tech-internet-as',\n",
    "'soc-douban', 'scc_retweet-crawl'\n",
    "]\n",
    "\n",
    "# real command\n",
    "density_cutoffs = [0.9]\n",
    "real_commands = []\n",
    "\n",
    "for graph_name in real_graph_names:\n",
    "    for code in codes:\n",
    "        for d in density_cutoffs:\n",
    "            for l in lower_bounds:\n",
    "                graph_name = graph_name.split('.')[0]\n",
    "                cmd = real_main_command.format(code=code, \n",
    "                                          l=l, \n",
    "                                          graph_name=graph_name, \n",
    "                                          d=d, \n",
    "                                          sub_folder=sub_folders[1])\n",
    "                print(cmd)\n",
    "                real_commands.append(cmd)"
   ]
  },
  {
   "cell_type": "code",
   "execution_count": 48,
   "metadata": {},
   "outputs": [],
   "source": [
    "with open('command-list-real.sh', 'w') as f:\n",
    "    for line in real_commands:\n",
    "        f.write(f\"{line}\\n\")"
   ]
  }
 ],
 "metadata": {
  "kernelspec": {
   "display_name": "Python 3 (ipykernel)",
   "language": "python",
   "name": "python3"
  },
  "language_info": {
   "codemirror_mode": {
    "name": "ipython",
    "version": 3
   },
   "file_extension": ".py",
   "mimetype": "text/x-python",
   "name": "python",
   "nbconvert_exporter": "python",
   "pygments_lexer": "ipython3",
   "version": "3.9.13"
  }
 },
 "nbformat": 4,
 "nbformat_minor": 4
}
