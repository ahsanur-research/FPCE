{
 "cells": [
  {
   "cell_type": "code",
   "execution_count": null,
   "metadata": {},
   "outputs": [],
   "source": [
    "! pip install networkx"
   ]
  },
  {
   "cell_type": "code",
   "execution_count": null,
   "metadata": {
    "scrolled": true
   },
   "outputs": [],
   "source": [
    "! pip install --upgrade pip setuptools wheel"
   ]
  },
  {
   "cell_type": "code",
   "execution_count": null,
   "metadata": {},
   "outputs": [],
   "source": [
    "! pip install pandas"
   ]
  },
  {
   "cell_type": "code",
   "execution_count": null,
   "metadata": {},
   "outputs": [],
   "source": [
    "! pip install matplotlib"
   ]
  },
  {
   "cell_type": "code",
   "execution_count": null,
   "metadata": {
    "id": "w56EexxUPlOj"
   },
   "outputs": [],
   "source": [
    "from itertools import combinations\n",
    "import copy\n",
    "import networkx as nx\n",
    "import pandas as pd\n",
    "import matplotlib.pyplot as plt\n",
    "import os\n",
    "import math\n",
    "import glob\n",
    "import string\n",
    "import random\n",
    "import numpy as np\n",
    "from collections import OrderedDict"
   ]
  },
  {
   "cell_type": "markdown",
   "metadata": {
    "id": "EfTThQV4PlOk"
   },
   "source": [
    "<h3>Generate Graph</h3>"
   ]
  },
  {
   "cell_type": "code",
   "execution_count": null,
   "metadata": {
    "id": "3rPc44DwPlOl"
   },
   "outputs": [],
   "source": [
    "#vertexes = [1000, 2000, 4000, 8000, 16000, 32000] #[100,200,300,400,500,600]\n",
    "#vertexes = [n for n in range(10000, 100001, 10000)]\n",
    "n = 100000"
   ]
  },
  {
   "cell_type": "code",
   "execution_count": null,
   "metadata": {},
   "outputs": [],
   "source": [
    "kvals = [5, 10, 15, 20, 25, 30, 35, 40]\n",
    "p = 0.2\n",
    "def small_world_graph():\n",
    "    for k in kvals: #idx, m in enumerate(mvals):\n",
    "        g = nx.watts_strogatz_graph(n, k, p)\n",
    "        edges = g.edges()\n",
    "        file_name = './synth-graphs/small_world_graph_m_'+str(k)+'.txt'\n",
    "        with open(file_name, 'w') as fp:\n",
    "            fp.write('\\n'.join('{} {}'.format(x[0],x[1]) for x in edges))"
   ]
  },
  {
   "cell_type": "code",
   "execution_count": null,
   "metadata": {},
   "outputs": [],
   "source": [
    "small_world_graph()"
   ]
  },
  {
   "cell_type": "code",
   "execution_count": null,
   "metadata": {},
   "outputs": [],
   "source": [
    "from networkx.utils import py_random_state\n",
    "\n",
    "def _random_subset(seq, m, rng):\n",
    "    \"\"\"Return m unique elements from seq.\n",
    "\n",
    "    This differs from random.sample which can return repeated\n",
    "    elements if seq holds repeated elements.\n",
    "\n",
    "    Note: rng is a random.Random or numpy.random.RandomState instance.\n",
    "    \"\"\"\n",
    "    targets = set()\n",
    "    while len(targets) < m:\n",
    "        x = rng.choice(seq)\n",
    "        targets.add(x)\n",
    "    return targets\n",
    "\n",
    "@py_random_state(2)\n",
    "def barabasi_albert_graph_ext(n, m, seed=None, initial_graph=None):\n",
    "    \"\"\"Returns a random graph using Barabási–Albert preferential attachment\n",
    "\n",
    "    A graph of $n$ nodes is grown by attaching new nodes each with $m$\n",
    "    edges that are preferentially attached to existing nodes with high degree.\n",
    "\n",
    "    Parameters\n",
    "    ----------\n",
    "    n : int\n",
    "        Number of nodes\n",
    "    m : int\n",
    "        Number of edges to attach from a new node to existing nodes\n",
    "    seed : integer, random_state, or None (default)\n",
    "        Indicator of random number generation state.\n",
    "        See :ref:`Randomness<randomness>`.\n",
    "    initial_graph : Graph or None (default)\n",
    "        Initial network for Barabási–Albert algorithm.\n",
    "        It should be a connected graph for most use cases.\n",
    "        A copy of `initial_graph` is used.\n",
    "        If None, starts from a star graph on (m+1) nodes.\n",
    "\n",
    "    Returns\n",
    "    -------\n",
    "    G : Graph\n",
    "\n",
    "    Raises\n",
    "    ------\n",
    "    NetworkXError\n",
    "        If `m` does not satisfy ``1 <= m < n``, or\n",
    "        the initial graph number of nodes m0 does not satisfy ``m <= m0 <= n``.\n",
    "\n",
    "    References\n",
    "    ----------\n",
    "    .. [1] A. L. Barabási and R. Albert \"Emergence of scaling in\n",
    "       random networks\", Science 286, pp 509-512, 1999.\n",
    "    \"\"\"\n",
    "\n",
    "    if m < 1 or m >= n:\n",
    "        raise nx.NetworkXError(\n",
    "            f\"Barabási–Albert network must have m >= 1 and m < n, m = {m}, n = {n}\"\n",
    "        )\n",
    "\n",
    "    if initial_graph is None:\n",
    "        # Default initial graph : star graph on (m + 1) nodes\n",
    "        G = nx.star_graph(m)\n",
    "    else:\n",
    "        if len(initial_graph) < m or len(initial_graph) > n:\n",
    "            raise nx.NetworkXError(\n",
    "                f\"Barabási–Albert initial graph needs between m={m} and n={n} nodes\"\n",
    "            )\n",
    "        G = initial_graph.copy()\n",
    "\n",
    "    # List of existing nodes, with nodes repeated once for each adjacent edge\n",
    "    repeated_nodes = [n for n, d in G.degree() for _ in range(d)]\n",
    "    # Start adding the other n - m0 nodes.\n",
    "    source = len(G)\n",
    "    while source < n:\n",
    "        m1 = random.randint(1,m) #randomly chose m1 between 1 and m so that the minimum degree = 1; otherwise it becomes m\n",
    "        # Now choose m unique nodes from the existing nodes\n",
    "        # Pick uniformly from repeated_nodes (preferential attachment)\n",
    "        targets = _random_subset(repeated_nodes, m1, seed)\n",
    "        # Add edges to m nodes from the source.\n",
    "        G.add_edges_from(zip([source] * m1, targets))\n",
    "        # Add one node to the list for each new edge just created.\n",
    "        repeated_nodes.extend(targets)\n",
    "        # And the new node \"source\" has m edges to add to the list.\n",
    "        repeated_nodes.extend([source] * m1)\n",
    "\n",
    "        source += 1\n",
    "    return G"
   ]
  },
  {
   "cell_type": "code",
   "execution_count": null,
   "metadata": {},
   "outputs": [],
   "source": [
    "mvals = [5,15,25,35]\n",
    "def scale_free_graph():\n",
    "    for m in mvals: #idx, m in enumerate(mvals):\n",
    "        g = barabasi_albert_graph_ext(n, m, None)\n",
    "        edges = g.edges()\n",
    "        file_name = './synth-graphs/scale_free_graph_m_'+str(m)+'.txt'\n",
    "        with open(file_name, 'w') as fp:\n",
    "            fp.write('\\n'.join('{} {}'.format(x[0],x[1]) for x in edges))"
   ]
  },
  {
   "cell_type": "code",
   "execution_count": null,
   "metadata": {
    "id": "5UTSWhdRPlOm"
   },
   "outputs": [],
   "source": [
    "scale_free_graph()"
   ]
  },
  {
   "cell_type": "markdown",
   "metadata": {},
   "source": [
    "### Generate PCE Compatible (.grh) Input Files"
   ]
  },
  {
   "cell_type": "code",
   "execution_count": null,
   "metadata": {},
   "outputs": [],
   "source": [
    "outdir='./synth-graphs/'\n",
    "indir='./synth-graphs/'\n",
    "n"
   ]
  },
  {
   "cell_type": "code",
   "execution_count": null,
   "metadata": {},
   "outputs": [],
   "source": [
    "#convert scale free graphs\n",
    "for m in mvals:\n",
    "    file_name = 'scale_free_graph_m_'+str(m)\n",
    "    os.system('../transgrh.pl < '+ indir+file_name+'.txt' +' > ' + outdir+file_name+'.grh')"
   ]
  },
  {
   "cell_type": "code",
   "execution_count": null,
   "metadata": {},
   "outputs": [],
   "source": [
    "#convert small world graphs\n",
    "for k in kvals:\n",
    "    in_file_name = 'small_world_graph_m_'+str(k)\n",
    "    out_file_name = 'small_world_graph_m_'+str(k)\n",
    "    os.system('../transgrh.pl < '+ indir+ in_file_name +'.txt' +' > ' + outdir+out_file_name+'.grh')"
   ]
  },
  {
   "cell_type": "markdown",
   "metadata": {
    "id": "1j-0RwPlPlOn"
   },
   "source": [
    "<h3>Transform graph for ODES</h3>"
   ]
  },
  {
   "cell_type": "code",
   "execution_count": null,
   "metadata": {},
   "outputs": [],
   "source": [
    "outdir='./synth-graphs/'\n",
    "indir='./synth-graphs/'"
   ]
  },
  {
   "cell_type": "code",
   "execution_count": null,
   "metadata": {
    "id": "cdf5ySaRPlOn"
   },
   "outputs": [],
   "source": [
    "text_files = glob.glob(indir + '*.txt')\n",
    "print(text_files)"
   ]
  },
  {
   "cell_type": "code",
   "execution_count": null,
   "metadata": {
    "id": "QrKqHoA_PlOn"
   },
   "outputs": [],
   "source": [
    "#convert to dict from list of tuples\n",
    "def convert_dict(li, di): \n",
    "    for (a, b) in li:\n",
    "        di.setdefault(a,[]).append(b) \n",
    "        di.setdefault(b,[]).append(a)\n",
    "    #edges = list(di) \n",
    "    di = OrderedDict(sorted(di.items()))\n",
    "    for (a,b) in di.items():\n",
    "        di[a] = sorted(b)\n",
    "\n",
    "    return di "
   ]
  },
  {
   "cell_type": "code",
   "execution_count": null,
   "metadata": {
    "id": "9cLoAqyOPlOo"
   },
   "outputs": [],
   "source": [
    "for file_name in text_files:\n",
    "    G = nx.Graph()\n",
    "    file = open(file_name, \"r\")\n",
    "    for edge in file:\n",
    "        vertex = edge.split()\n",
    "        G.add_edge(int(vertex[0]), int(vertex[1]))\n",
    "    file.close()\n",
    "    edges = list(G.edges())\n",
    "    edges_dict = {}\n",
    "    edges_dict = convert_dict(edges, edges_dict)\n",
    "    #print( edges_dict )\n",
    "    #break\n",
    "    file_name = file_name.split(\"/\")\n",
    "    odes_file = outdir+'odes_'+file_name[2]\n",
    "    \n",
    "    file = open(odes_file, \"w\")\n",
    "    file.write('{} \\n'.format(G.number_of_nodes()))\n",
    "    for node, edges in edges_dict.items(): \n",
    "        edges = str(edges)\n",
    "        punctuations = '''!()-[]{};:'\"\\,<>./?@#$%^&*_~'''\n",
    "        for char in edges:\n",
    "           if char in punctuations: \n",
    "                edges = edges.replace(char, \"\")\n",
    "        file.write('{}\\t{} \\n'.format(str(node), edges))\n",
    "    file.close()    "
   ]
  }
 ],
 "metadata": {
  "colab": {
   "provenance": []
  },
  "kernelspec": {
   "display_name": "Python 3 (ipykernel)",
   "language": "python",
   "name": "python3"
  },
  "language_info": {
   "codemirror_mode": {
    "name": "ipython",
    "version": 3
   },
   "file_extension": ".py",
   "mimetype": "text/x-python",
   "name": "python",
   "nbconvert_exporter": "python",
   "pygments_lexer": "ipython3",
   "version": "3.9.13"
  }
 },
 "nbformat": 4,
 "nbformat_minor": 1
}
