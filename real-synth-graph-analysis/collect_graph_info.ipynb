{
 "cells": [
  {
   "cell_type": "code",
   "execution_count": null,
   "metadata": {},
   "outputs": [],
   "source": [
    "! pip install networkx"
   ]
  },
  {
   "cell_type": "code",
   "execution_count": null,
   "metadata": {
    "scrolled": true
   },
   "outputs": [],
   "source": [
    "! pip install --upgrade pip setuptools wheel"
   ]
  },
  {
   "cell_type": "code",
   "execution_count": null,
   "metadata": {},
   "outputs": [],
   "source": [
    "! pip install pandas"
   ]
  },
  {
   "cell_type": "code",
   "execution_count": null,
   "metadata": {},
   "outputs": [],
   "source": [
    "! pip install matplotlib"
   ]
  },
  {
   "cell_type": "code",
   "execution_count": null,
   "metadata": {
    "id": "w56EexxUPlOj"
   },
   "outputs": [],
   "source": [
    "from itertools import combinations\n",
    "import copy\n",
    "import networkx as nx\n",
    "import pandas as pd\n",
    "import matplotlib.pyplot as plt\n",
    "import os\n",
    "import math\n",
    "import glob\n",
    "import string\n",
    "import random\n",
    "import numpy as np\n",
    "from collections import OrderedDict"
   ]
  },
  {
   "cell_type": "markdown",
   "metadata": {
    "id": "ZeEHl1MsPlOm"
   },
   "source": [
    "<h3>Print the information of synth graph from file</h3>"
   ]
  },
  {
   "cell_type": "code",
   "execution_count": null,
   "metadata": {},
   "outputs": [],
   "source": [
    "indir = './synth-graphs/' \n",
    "outdir = indir\n",
    "text_files = glob.glob(indir+'*.txt')"
   ]
  },
  {
   "cell_type": "code",
   "execution_count": null,
   "metadata": {
    "id": "2K30lO2GPlOn"
   },
   "outputs": [],
   "source": [
    "information_file = outdir + 'information_synth.info'\n",
    "\n",
    "for file_name in text_files:\n",
    "    print('processing '+file_name+'\\n')\n",
    "    G = nx.Graph()\n",
    "    file = open(file_name, \"r\")\n",
    "    for edge in file:\n",
    "        vertex = edge.split()\n",
    "        G.add_edge(int(vertex[0]), int(vertex[1]))\n",
    "    file.close()\n",
    "    \n",
    "    #file_name = file_name.split(\"/\")\n",
    "    #remove self-loops\n",
    "    G.remove_edges_from(nx.selfloop_edges(G))\n",
    "\n",
    "    file = open(information_file,'a')\n",
    "    base_file, ext = os.path.splitext(os.path.basename(file_name))\n",
    "    file.write('{}\\n'.format(base_file))\n",
    "    file.write('# of edges: {}\\n'.format(G.number_of_edges()))\n",
    "    file.write('# of nodes: {}\\n'.format(G.number_of_nodes()))\n",
    "    file.write('Density: {}\\n'.format(nx.density(G)))\n",
    "    file.write('Degeneracy: {}\\n'.format( max(nx.core_number(G).values()) ))\n",
    "\n",
    "file.close()"
   ]
  },
  {
   "cell_type": "markdown",
   "metadata": {
    "id": "ZeEHl1MsPlOm"
   },
   "source": [
    "<h3>Print the information of real graphs from file</h3>"
   ]
  },
  {
   "cell_type": "code",
   "execution_count": null,
   "metadata": {},
   "outputs": [],
   "source": [
    "indir = './real-graphs/'  #change to './real-graphs/' to get info of real graphs\n",
    "outdir = indir\n",
    "text_files = glob.glob(indir+'*.pel')"
   ]
  },
  {
   "cell_type": "code",
   "execution_count": null,
   "metadata": {
    "id": "2K30lO2GPlOn"
   },
   "outputs": [],
   "source": [
    "information_file = outdir + 'information_real.info'\n",
    "\n",
    "for file_name in text_files:\n",
    "    print('processing '+file_name+'\\n')\n",
    "    G = nx.Graph()\n",
    "    file = open(file_name, \"r\")\n",
    "    for edge in file:\n",
    "        vertex = edge.split()\n",
    "        G.add_edge(int(vertex[0]), int(vertex[1]))\n",
    "    file.close()\n",
    "    \n",
    "    #file_name = file_name.split(\"/\")\n",
    "    #remove self-loops\n",
    "    G.remove_edges_from(nx.selfloop_edges(G))\n",
    "\n",
    "    file = open(information_file,'w')\n",
    "    base_file, ext = os.path.splitext(os.path.basename(file_name))\n",
    "    file.write('{}\\n'.format(base_file))\n",
    "    file.write('# of edges: {}\\n'.format(G.number_of_edges()))\n",
    "    file.write('# of nodes: {}\\n'.format(G.number_of_nodes()))\n",
    "    file.write('Density: {}\\n'.format(nx.density(G)))\n",
    "    file.write('Degeneracy: {}\\n'.format( max(nx.core_number(G).values()) ))\n",
    "\n",
    "file.close()"
   ]
  },
  {
   "cell_type": "code",
   "execution_count": null,
   "metadata": {},
   "outputs": [],
   "source": []
  }
 ],
 "metadata": {
  "colab": {
   "provenance": []
  },
  "kernelspec": {
   "display_name": "Python 3 (ipykernel)",
   "language": "python",
   "name": "python3"
  },
  "language_info": {
   "codemirror_mode": {
    "name": "ipython",
    "version": 3
   },
   "file_extension": ".py",
   "mimetype": "text/x-python",
   "name": "python",
   "nbconvert_exporter": "python",
   "pygments_lexer": "ipython3",
   "version": "3.9.13"
  }
 },
 "nbformat": 4,
 "nbformat_minor": 1
}
